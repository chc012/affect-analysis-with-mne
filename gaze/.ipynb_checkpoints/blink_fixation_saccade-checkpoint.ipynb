{
 "cells": [
  {
   "cell_type": "markdown",
   "id": "consolidated-alias",
   "metadata": {
    "tags": []
   },
   "source": [
    "# MAHNOB functions exploration\n",
    "\n",
    "Taking and look at several methods made for the gaze data. The methods are in `find_fixations_saccades.py`"
   ]
  },
  {
   "cell_type": "code",
   "execution_count": null,
   "id": "static-exhibit",
   "metadata": {},
   "outputs": [],
   "source": [
    "import os\n",
    "import pandas as pd\n",
    "import seaborn as sns\n",
    "import matplotlib.pyplot as plt\n",
    "import numpy as np\n",
    "\n",
    "from find_fixations_saccades import *\n",
    "\n",
    "sns.set(rc={'figure.figsize':(11.7,8.27)})"
   ]
  },
  {
   "cell_type": "markdown",
   "id": "empty-coral",
   "metadata": {},
   "source": [
    "The code in this notebook was tested against session 10 data, but should work for all gaze data."
   ]
  },
  {
   "cell_type": "code",
   "execution_count": null,
   "id": "dfb96ee0-aab7-4828-887e-efefa80a43ec",
   "metadata": {},
   "outputs": [],
   "source": [
    "# Change accordingly\n",
    "session_path = \"10/P1-Rec1-All-Data-New_Section_10.tsv\""
   ]
  },
  {
   "cell_type": "code",
   "execution_count": null,
   "id": "4f56b519-546f-45f1-8f7a-ed8943cdd5b7",
   "metadata": {},
   "outputs": [],
   "source": [
    "dataset_path = \"/net2/expData/affective_eeg/mahnob_dataset/Sessions\"\n",
    "data_path = os.path.join(dataset_path, session_path)\n",
    "\n",
    "gaze = pd.read_csv(data_path, sep=\"\\t\", header=23)\n",
    "gaze = gaze.drop(columns=[\"Unnamed: 43\", \"Unnamed: 44\"])\n",
    "\n",
    "media_width = gaze.loc[0,\"MediaWidth\"]\n",
    "media_height = gaze.loc[0,\"MediaHeight\"]\n",
    "\n",
    "# Reverse Y due to coordinate system of raw data\n",
    "gaze[\"MappedFixationPointYRev\"] = gaze.MappedFixationPointY.apply(lambda x: media_height - x)\n",
    "gaze[\"MappedGazeDataPointYRev\"] = gaze.MappedGazeDataPointY.apply(lambda y: media_height - y)"
   ]
  },
  {
   "cell_type": "code",
   "execution_count": null,
   "id": "polar-skirt",
   "metadata": {},
   "outputs": [],
   "source": [
    "gaze.columns"
   ]
  },
  {
   "cell_type": "markdown",
   "id": "lightweight-shell",
   "metadata": {},
   "source": [
    "## Blink detection"
   ]
  },
  {
   "cell_type": "markdown",
   "id": "e47e79c7-d8cd-48a6-b079-eb9a358d1151",
   "metadata": {},
   "source": [
    "First we look at the validity score provided by Tobii for each frame."
   ]
  },
  {
   "cell_type": "code",
   "execution_count": null,
   "id": "heavy-detective",
   "metadata": {},
   "outputs": [],
   "source": [
    "print(gaze.loc[(gaze.ValidityRight == 4) & (gaze.ValidityLeft == 4), \"MappedGazeDataPointX\"].unique())\n",
    "print(gaze.loc[(gaze.ValidityRight == 4) & (gaze.ValidityLeft == 4), \"MappedGazeDataPointY\"].unique())"
   ]
  },
  {
   "cell_type": "markdown",
   "id": "framed-reserve",
   "metadata": {},
   "source": [
    "So whenever the validity of gaze point is bad, the gaze coordinate is set to (0, 0)."
   ]
  },
  {
   "cell_type": "code",
   "execution_count": null,
   "id": "express-boundary",
   "metadata": {},
   "outputs": [],
   "source": [
    "gaze.loc[(gaze.ValidityRight == 4) & (gaze.ValidityLeft == 4), [\"Timestamp\", \"MappedGazeDataPointX\", \"MappedGazeDataPointY\"]]"
   ]
  },
  {
   "cell_type": "markdown",
   "id": "c107173d-d798-41de-8505-f942127dc3ff",
   "metadata": {},
   "source": [
    "Now we try out the blink detection function."
   ]
  },
  {
   "cell_type": "code",
   "execution_count": null,
   "id": "moral-palestine",
   "metadata": {},
   "outputs": [],
   "source": [
    "blink_from_gaze = blink_detection(gaze.MappedGazeDataPointX, gaze.MappedGazeDataPointY, gaze.Timestamp)[1]\n",
    "blink_from_validity = blink_detection(gaze.ValidityLeft, gaze.ValidityRight, gaze.Timestamp, missing=4)[1]"
   ]
  },
  {
   "cell_type": "code",
   "execution_count": null,
   "id": "fixed-graduation",
   "metadata": {
    "tags": []
   },
   "outputs": [],
   "source": [
    "blink_from_gaze == blink_from_validity"
   ]
  },
  {
   "cell_type": "markdown",
   "id": "earlier-brick",
   "metadata": {},
   "source": [
    "So it seems that the validity score itself can be used to extract blinks."
   ]
  },
  {
   "cell_type": "markdown",
   "id": "greater-rochester",
   "metadata": {},
   "source": [
    "Look at the number of blinks extracted by this method."
   ]
  },
  {
   "cell_type": "code",
   "execution_count": null,
   "id": "attended-karen",
   "metadata": {},
   "outputs": [],
   "source": [
    "print(\"Number of potential blinks detected:\", len(blink_from_gaze))"
   ]
  },
  {
   "cell_type": "markdown",
   "id": "regulated-article",
   "metadata": {},
   "source": [
    "That seems to be a small number. Average eye blink in relaxation is about 12-15 per minute. The recording is about 3 minutes.\n",
    "\n",
    "https://www.ncbi.nlm.nih.gov/pmc/articles/PMC6118863\n",
    "\n",
    "May need to find a way to better tell the duration of typical eye blink."
   ]
  },
  {
   "cell_type": "markdown",
   "id": "checked-seeker",
   "metadata": {},
   "source": [
    "The number semes to be better by reducing the minimal length of blink."
   ]
  },
  {
   "cell_type": "code",
   "execution_count": null,
   "id": "a46cde31-8009-41d8-8ee1-04a323ba2ae8",
   "metadata": {},
   "outputs": [],
   "source": [
    "blink_from_validity = blink_detection(gaze.ValidityLeft, gaze.ValidityRight, gaze.Timestamp, missing=4, minlen=1)[1]\n",
    "\n",
    "print(\"Number of potential blinks detected:\", len(blink_from_validity))"
   ]
  },
  {
   "cell_type": "markdown",
   "id": "balanced-rebecca",
   "metadata": {},
   "source": [
    "## Find fixation"
   ]
  },
  {
   "cell_type": "markdown",
   "id": "removed-aspect",
   "metadata": {},
   "source": [
    "Now try the fixation algorithm."
   ]
  },
  {
   "cell_type": "code",
   "execution_count": null,
   "id": "4e62ea8a-d774-41b9-b58b-3c5bacd5519d",
   "metadata": {
    "tags": []
   },
   "outputs": [],
   "source": [
    "fixation_from_gaze = np.array(fixation_detection(gaze.MappedGazeDataPointX, gaze.MappedGazeDataPointYRev, gaze.Timestamp)[1])\n",
    "\n",
    "print(\"Fixations found from functions provided:\", len(fixation_from_gaze))"
   ]
  },
  {
   "cell_type": "markdown",
   "id": "structural-bathroom",
   "metadata": {},
   "source": [
    "That's more than what Tobii found."
   ]
  },
  {
   "cell_type": "code",
   "execution_count": null,
   "id": "ignored-henry",
   "metadata": {},
   "outputs": [],
   "source": [
    "sns.scatterplot(x=fixation_from_gaze[:,3], y=fixation_from_gaze[:,4],\n",
    "                hue=fixation_from_gaze[:,2], size=fixation_from_gaze[:,2])\n",
    "plt.ylim(0, media_height)\n",
    "plt.xlim(0, media_width)\n",
    "plt.show()"
   ]
  },
  {
   "cell_type": "markdown",
   "id": "herbal-constitutional",
   "metadata": {},
   "source": [
    "Similar to the Tobii fixation result, but with more points."
   ]
  },
  {
   "cell_type": "markdown",
   "id": "marine-stroke",
   "metadata": {},
   "source": [
    "## Find saccade"
   ]
  },
  {
   "cell_type": "code",
   "execution_count": null,
   "id": "intermediate-panic",
   "metadata": {},
   "outputs": [],
   "source": [
    "saccade_from_gaze = pd.DataFrame(data=saccade_detection(gaze.MappedGazeDataPointX, gaze.MappedGazeDataPointY, gaze.Timestamp)[1],\n",
    "                                 columns=[\"starttime\", \"endtime\", \"duration\", \"startx\", \"starty\", \"endx\", \"endy\"])\n",
    "saccade_from_gaze.head()"
   ]
  },
  {
   "cell_type": "code",
   "execution_count": null,
   "id": "defined-casting",
   "metadata": {},
   "outputs": [],
   "source": [
    "print('Saccades found:', len(saccade_from_gaze))"
   ]
  }
 ],
 "metadata": {
  "kernelspec": {
   "display_name": "Python 3 (ipykernel)",
   "language": "python",
   "name": "python3"
  },
  "language_info": {
   "codemirror_mode": {
    "name": "ipython",
    "version": 3
   },
   "file_extension": ".py",
   "mimetype": "text/x-python",
   "name": "python",
   "nbconvert_exporter": "python",
   "pygments_lexer": "ipython3",
   "version": "3.9.7"
  }
 },
 "nbformat": 4,
 "nbformat_minor": 5
}
