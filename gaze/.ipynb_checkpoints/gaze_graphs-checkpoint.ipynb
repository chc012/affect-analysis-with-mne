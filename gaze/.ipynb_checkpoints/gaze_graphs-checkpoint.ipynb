{
 "cells": [
  {
   "cell_type": "markdown",
   "id": "altered-dependence",
   "metadata": {},
   "source": [
    "# MAHNOB Gaze Data\n",
    "\n",
    "This file contains some basic graphs about the gaze data of mahnob-hci."
   ]
  },
  {
   "cell_type": "markdown",
   "id": "a1d2851a-2fd0-44d8-930c-a9f56749f28f",
   "metadata": {},
   "source": [
    "## Set Up"
   ]
  },
  {
   "cell_type": "code",
   "execution_count": null,
   "id": "precise-influence",
   "metadata": {},
   "outputs": [],
   "source": [
    "import os\n",
    "import pandas as pd\n",
    "import seaborn as sns\n",
    "import matplotlib.pyplot as plt\n",
    "\n",
    "sns.set(rc={'figure.figsize':(11.7,8.27)})"
   ]
  },
  {
   "cell_type": "markdown",
   "id": "funky-storage",
   "metadata": {},
   "source": [
    "The code in this notebook was tested against session 10 data, but should work for all gaze data."
   ]
  },
  {
   "cell_type": "code",
   "execution_count": null,
   "id": "6b816686-fae6-4505-9382-b593ea9c171d",
   "metadata": {},
   "outputs": [],
   "source": [
    "# Change accordingly\n",
    "session_path = \"10/P1-Rec1-All-Data-New_Section_10.tsv\""
   ]
  },
  {
   "cell_type": "code",
   "execution_count": null,
   "id": "6e966ba8-87fe-4fe3-b991-abdc549e56a5",
   "metadata": {},
   "outputs": [],
   "source": [
    "dataset_path = \"/net2/expData/affective_eeg/mahnob_dataset/Sessions\"\n",
    "data_path = os.path.join(dataset_path, session_path)\n",
    "\n",
    "# Get it into dataframe.\n",
    "gaze = pd.read_csv(data_path, sep=\"\\t\", header=23)\n",
    "gaze = gaze.drop(columns=[\"Unnamed: 43\", \"Unnamed: 44\"])"
   ]
  },
  {
   "cell_type": "markdown",
   "id": "metric-station",
   "metadata": {},
   "source": [
    "Take a look at how many data point Tobii considers valid."
   ]
  },
  {
   "cell_type": "code",
   "execution_count": null,
   "id": "civic-scope",
   "metadata": {},
   "outputs": [],
   "source": [
    "print(\"Valid data points:\", gaze.loc[gaze[\"ValidityLeft\"] == 0, \"Timestamp\"].count())"
   ]
  },
  {
   "cell_type": "markdown",
   "id": "continent-theology",
   "metadata": {},
   "source": [
    "Take a look at the dataframe."
   ]
  },
  {
   "cell_type": "code",
   "execution_count": null,
   "id": "understanding-training",
   "metadata": {},
   "outputs": [],
   "source": [
    "gaze.columns"
   ]
  },
  {
   "cell_type": "code",
   "execution_count": null,
   "id": "precious-madness",
   "metadata": {},
   "outputs": [],
   "source": [
    "gaze.head()"
   ]
  },
  {
   "cell_type": "markdown",
   "id": "earlier-convert",
   "metadata": {},
   "source": [
    "Note: Timestamp is DateTimeStampStartOffset in milisecond."
   ]
  },
  {
   "cell_type": "markdown",
   "id": "alert-insight",
   "metadata": {},
   "source": [
    "Video and screen have the same width and height."
   ]
  },
  {
   "cell_type": "code",
   "execution_count": null,
   "id": "adjusted-promotion",
   "metadata": {},
   "outputs": [],
   "source": [
    "print(gaze.loc[:,\"MediaPosX\"].unique())\n",
    "print(gaze.loc[:,\"MediaPosY\"].unique())"
   ]
  },
  {
   "cell_type": "markdown",
   "id": "cheap-photograph",
   "metadata": {},
   "source": [
    "The width and height of the video clip and screen"
   ]
  },
  {
   "cell_type": "code",
   "execution_count": null,
   "id": "077e37bc-e029-4f43-a1b8-dc7b760c9210",
   "metadata": {},
   "outputs": [],
   "source": [
    "media_width = gaze.loc[:,\"MediaWidth\"].unique()[0]\n",
    "media_height = gaze.loc[:,\"MediaHeight\"].unique()[0]\n",
    "\n",
    "print(\"Video Width:\", media_width)\n",
    "print(\"Video Height:\", media_height)"
   ]
  },
  {
   "cell_type": "markdown",
   "id": "extreme-enemy",
   "metadata": {},
   "source": [
    "We use this for the plots later. Make the plots have the same width and height as the screen."
   ]
  },
  {
   "cell_type": "markdown",
   "id": "4d4b298a-0e50-4d84-ab9d-2fb2a46ddcb6",
   "metadata": {},
   "source": [
    "## Gaze points and fixations"
   ]
  },
  {
   "cell_type": "markdown",
   "id": "parliamentary-austin",
   "metadata": {},
   "source": [
    "Using only Tobii data, show all gaze point (blue) and predicted fixation point (red).\n",
    "\n",
    "Note: we need to reverse the y coordinate because for Tobii, a higher y value means a lower gaze point."
   ]
  },
  {
   "cell_type": "code",
   "execution_count": null,
   "id": "organizational-index",
   "metadata": {},
   "outputs": [],
   "source": [
    "# Reverse Y due to coordinate system of raw data\n",
    "gaze[\"MappedFixationPointYRev\"] = gaze.MappedFixationPointY.apply(lambda x: media_height - x)\n",
    "gaze[\"MappedGazeDataPointYRev\"] = gaze.MappedGazeDataPointY.apply(lambda y: media_height - y)\n",
    "\n",
    "sns.scatterplot(x=\"MappedGazeDataPointX\", y=\"MappedGazeDataPointYRev\", data=gaze)\n",
    "sns.scatterplot(x=\"MappedFixationPointX\", y=\"MappedFixationPointYRev\", data=gaze, color=\"red\")\n",
    "plt.ylim(0, media_height)\n",
    "plt.xlim(0, media_width)\n",
    "plt.title(\"Gaze points and predicted fixation points from Tobii data\",\n",
    "          fontdict={\"fontsize\":20},\n",
    "          loc=\"left\")\n",
    "plt.xlabel(\"Screen width\")\n",
    "plt.ylabel(\"Screen height\")\n",
    "plt.show()"
   ]
  },
  {
   "cell_type": "markdown",
   "id": "simple-uzbekistan",
   "metadata": {},
   "source": [
    "Graph showing fixation point and duration."
   ]
  },
  {
   "cell_type": "code",
   "execution_count": null,
   "id": "political-benchmark",
   "metadata": {},
   "outputs": [],
   "source": [
    "sns.scatterplot(x=\"MappedFixationPointX\", y=\"MappedFixationPointYRev\",\n",
    "                hue=\"FixationDuration\", size=\"FixationDuration\", data=gaze)\n",
    "plt.ylim(0, media_height)\n",
    "plt.xlim(0, media_width)\n",
    "plt.title(\"Predicted fixation points from Tobii data\\nDarker and larger circles show longer fixation duration\",\n",
    "          fontdict={\"fontsize\":20},\n",
    "          loc=\"left\")\n",
    "plt.xlabel(\"Screen width\")\n",
    "plt.ylabel(\"Screen height\")\n",
    "plt.show()"
   ]
  },
  {
   "cell_type": "markdown",
   "id": "adopted-weekend",
   "metadata": {},
   "source": [
    "See how many fixation points there are."
   ]
  },
  {
   "cell_type": "code",
   "execution_count": null,
   "id": "blind-morris",
   "metadata": {},
   "outputs": [],
   "source": [
    "gaze[\"FixationPoint\"] = gaze.MappedFixationPointX.astype(str) + \" \" + gaze.MappedFixationPointY.astype(str)\n",
    "\n",
    "print(\"Number of fixation points from Tobii:\", len(gaze.FixationPoint.unique()))"
   ]
  },
  {
   "cell_type": "markdown",
   "id": "3c2e4166-1033-433d-84e4-14881b664b77",
   "metadata": {},
   "source": [
    "## Gaze point validity"
   ]
  },
  {
   "cell_type": "markdown",
   "id": "handed-ontario",
   "metadata": {},
   "source": [
    "Validity of eye gaze data for left and right eye."
   ]
  },
  {
   "cell_type": "code",
   "execution_count": null,
   "id": "biblical-landscape",
   "metadata": {},
   "outputs": [],
   "source": [
    "f, axes = plt.subplots(1, 2)\n",
    "sns.histplot(x=\"ValidityLeft\", data=gaze, ax=axes[0])\n",
    "sns.histplot(x=\"ValidityRight\", data=gaze, ax=axes[1])\n",
    "plt.show()"
   ]
  },
  {
   "cell_type": "code",
   "execution_count": null,
   "id": "auburn-lindsay",
   "metadata": {},
   "outputs": [],
   "source": [
    "sns.histplot(x=gaze[\"FixationDuration\"].unique(), binwidth=50)\n",
    "plt.title(\"Distribution of fixation duration\",\n",
    "          fontdict={\"fontsize\":20},\n",
    "          loc=\"left\")\n",
    "plt.xlabel(\"Fixation duration\")\n",
    "plt.show()"
   ]
  },
  {
   "cell_type": "markdown",
   "id": "987716d0-bc6b-4416-a31a-b47a1e324524",
   "metadata": {},
   "source": [
    "## Fixations"
   ]
  },
  {
   "cell_type": "markdown",
   "id": "australian-theorem",
   "metadata": {},
   "source": [
    "Curious about what that three really long fixation is fixated on."
   ]
  },
  {
   "cell_type": "code",
   "execution_count": null,
   "id": "sealed-creature",
   "metadata": {},
   "outputs": [],
   "source": [
    "long_gaze = gaze.loc[gaze[\"FixationDuration\"] > 2000]\n",
    "\n",
    "fig = plt.figure()\n",
    "ax1 = sns.scatterplot(x=\"MappedFixationPointX\", y=\"MappedFixationPointY\", data=long_gaze)\n",
    "plt.ylim(0, media_height)\n",
    "plt.xlim(0, media_width)\n",
    "plt.title(\"Long fixations\",\n",
    "          fontdict={\"fontsize\":20},\n",
    "          loc=\"left\")\n",
    "plt.xlabel(\"Screen width\")\n",
    "plt.ylabel(\"Screen height\")\n",
    "plt.show()"
   ]
  },
  {
   "cell_type": "markdown",
   "id": "involved-terrorism",
   "metadata": {},
   "source": [
    "All the gaze by time."
   ]
  },
  {
   "cell_type": "code",
   "execution_count": null,
   "id": "packed-municipality",
   "metadata": {},
   "outputs": [],
   "source": [
    "gaze.FixationDuration.unique()"
   ]
  },
  {
   "cell_type": "code",
   "execution_count": null,
   "id": "exterior-mainland",
   "metadata": {},
   "outputs": [],
   "source": [
    "sns.lineplot(data=gaze.FixationDuration.unique())\n",
    "plt.title(\"Sequence of fixation duration by time\",\n",
    "          fontdict={\"fontsize\":20},\n",
    "          loc=\"left\")\n",
    "plt.ylabel(\"Fixation duration\")\n",
    "plt.show()"
   ]
  }
 ],
 "metadata": {
  "kernelspec": {
   "display_name": "Python 3 (ipykernel)",
   "language": "python",
   "name": "python3"
  },
  "language_info": {
   "codemirror_mode": {
    "name": "ipython",
    "version": 3
   },
   "file_extension": ".py",
   "mimetype": "text/x-python",
   "name": "python",
   "nbconvert_exporter": "python",
   "pygments_lexer": "ipython3",
   "version": "3.9.7"
  }
 },
 "nbformat": 4,
 "nbformat_minor": 5
}
