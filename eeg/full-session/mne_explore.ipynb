{
 "cells": [
  {
   "cell_type": "markdown",
   "id": "twelve-smell",
   "metadata": {},
   "source": [
    "# Exploring MNE-Python library for EEG analysis\n",
    "Practice MNE-Python and the eeg processing pipeline for 1 session data"
   ]
  },
  {
   "cell_type": "markdown",
   "id": "caring-grain",
   "metadata": {},
   "source": [
    "## Setting up"
   ]
  },
  {
   "cell_type": "code",
   "execution_count": 1,
   "id": "tamil-frame",
   "metadata": {},
   "outputs": [
    {
     "name": "stderr",
     "output_type": "stream",
     "text": [
      "Matplotlib created a temporary config/cache directory at /tmp/matplotlib-hk0jd0wb because the default path (/home/chc012/.cache/matplotlib) is not a writable directory; it is highly recommended to set the MPLCONFIGDIR environment variable to a writable directory, in particular to speed up the import of Matplotlib and to better support multiprocessing.\n"
     ]
    }
   ],
   "source": [
    "import os\n",
    "import mne\n",
    "import matplotlib.pyplot as plt\n",
    "import numpy as np\n",
    "\n",
    "from mne.preprocessing import ICA\n",
    "from matplotlib import rcParams\n",
    "import xml.etree.cElementTree as et\n",
    "\n",
    "# figure size in inches: \n",
    "# https://stackoverflow.com/questions/31594549/\n",
    "# how-to-change-the-figure-size-of-a-seaborn-axes-or-figure-level-plot\n",
    "rcParams['figure.figsize'] = 11.7,8.27"
   ]
  },
  {
   "cell_type": "code",
   "execution_count": 2,
   "id": "latest-philosophy",
   "metadata": {},
   "outputs": [],
   "source": [
    "# From the data manual\n",
    "EEG_CHANNELS = ['Fp1', 'AF3', 'F3', 'F7', 'FC5', 'FC1', 'C3', 'T7', 'CP5', \n",
    "                'CP1', 'P3', 'P7', 'PO3', 'O1', 'Oz', 'Pz', 'Fp2', 'AF4', \n",
    "                'Fz', 'F4', 'F8', 'FC6', 'FC2', 'Cz', 'C4', 'T8', 'CP6', \n",
    "                'CP2', 'P4', 'P8', 'PO4', 'O2']\n",
    "STIM_CHANNELS = ['Status']\n",
    "OTHER_CHANNELS = ['EXG1', 'EXG2', 'EXG3', 'EXG4', 'EXG5', 'EXG6', 'EXG7', \n",
    "                  'EXG8', 'GSR1', 'GSR2', 'Erg1', 'Erg2', 'Resp', 'Temp']\n",
    "\n",
    "# Taken from https://github.com/TNEL-UCSD/limbic-analysis-dynamics/blob/\n",
    "#            master/scripts/iads_gen_features.py\n",
    "FREQ_RANGES = {\n",
    "    'delta': [2., 3.5],\n",
    "    'theta': [4., 7.],\n",
    "    'alpha': [9., 11.],\n",
    "    'beta': [15., 30.],\n",
    "    'gamma': [35., 55.],\n",
    "    'high_gamma': [90., 110.]\n",
    "}"
   ]
  },
  {
   "cell_type": "code",
   "execution_count": 3,
   "id": "steady-drama",
   "metadata": {},
   "outputs": [],
   "source": [
    "dataset_path = \"/net2/expData/affective_eeg/mahnob_dataset/Sessions\"\n",
    "session_path = \"10\"\n",
    "meta_data_path = \"session.xml\""
   ]
  },
  {
   "cell_type": "markdown",
   "id": "numerical-region",
   "metadata": {},
   "source": [
    "Read in raw data. Notebook tested with data from Session 10"
   ]
  },
  {
   "cell_type": "code",
   "execution_count": 4,
   "id": "modified-chaos",
   "metadata": {},
   "outputs": [
    {
     "name": "stdout",
     "output_type": "stream",
     "text": [
      "Extracting EDF parameters from /net2/expData/affective_eeg/mahnob_dataset/Sessions/10/Part_1_S_Trial5_emotion.bdf...\n",
      "BDF file detected\n",
      "Setting channel info structure...\n",
      "Creating raw.info structure...\n",
      "Reading 0 ... 42495  =      0.000 ...   165.996 secs...\n"
     ]
    },
    {
     "data": {
      "text/plain": [
       "<RawEDF | Part_1_S_Trial5_emotion.bdf, 47 x 42496 (166.0 s), ~15.3 MB, data loaded>"
      ]
     },
     "execution_count": 4,
     "metadata": {},
     "output_type": "execute_result"
    }
   ],
   "source": [
    "raw_path = os.path.join(dataset_path, session_path, \"Part_1_S_Trial5_emotion.bdf\")\n",
    "\n",
    "raw = mne.io.read_raw_bdf(raw_path)\n",
    "raw.load_data()"
   ]
  },
  {
   "cell_type": "markdown",
   "id": "recognized-yesterday",
   "metadata": {},
   "source": [
    "## Preprocessing"
   ]
  },
  {
   "cell_type": "markdown",
   "id": "cognitive-alexandria",
   "metadata": {},
   "source": [
    "#### Drop channel and rereference"
   ]
  },
  {
   "cell_type": "code",
   "execution_count": 5,
   "id": "expected-eight",
   "metadata": {},
   "outputs": [
    {
     "name": "stdout",
     "output_type": "stream",
     "text": [
      "EEG channel type selected for re-referencing\n",
      "Applying average reference.\n",
      "Applying a custom EEG reference.\n"
     ]
    }
   ],
   "source": [
    "# Drop extra channels based on manual\n",
    "data_dropch = raw.copy().drop_channels(OTHER_CHANNELS)\n",
    "\n",
    "# Rereference data. \n",
    "# See https://mne.tools/stable/auto_tutorials/io/20_reading_eeg_data.html\n",
    "#     #biosemi-data-format-bdf\n",
    "data_reref, ref_data = mne.set_eeg_reference(data_dropch)"
   ]
  },
  {
   "cell_type": "markdown",
   "id": "signal-threshold",
   "metadata": {},
   "source": [
    "#### Find events"
   ]
  },
  {
   "cell_type": "code",
   "execution_count": 6,
   "id": "backed-fraction",
   "metadata": {},
   "outputs": [
    {
     "data": {
      "image/png": "[encoded data removed]",
      "text/plain": [
       "<MNEBrowseFigure size 842.4x595.44 with 4 Axes>"
      ]
     },
     "metadata": {
      "needs_background": "light"
     },
     "output_type": "display_data"
    }
   ],
   "source": [
    "data_reref.copy().pick_types(eeg=False, stim=True).plot(duration=160)\n",
    "plt.show()"
   ]
  },
  {
   "cell_type": "code",
   "execution_count": 7,
   "id": "outdoor-catalyst",
   "metadata": {},
   "outputs": [
    {
     "name": "stdout",
     "output_type": "stream",
     "text": [
      "2 events found\n",
      "Event IDs: [268]\n",
      "[[ 7680     0   268]\n",
      " [34570     0   268]]\n"
     ]
    }
   ],
   "source": [
    "events = mne.find_events(raw, stim_channel=\"Status\")\n",
    "print(events)"
   ]
  },
  {
   "cell_type": "markdown",
   "id": "instrumental-warning",
   "metadata": {},
   "source": [
    "Stimuli start and stop."
   ]
  },
  {
   "cell_type": "code",
   "execution_count": 8,
   "id": "impaired-hobby",
   "metadata": {
    "tags": []
   },
   "outputs": [
    {
     "name": "stdout",
     "output_type": "stream",
     "text": [
      "<RawEDF | Part_1_S_Trial5_emotion.bdf, 33 x 42496 (166.0 s), ~10.7 MB, data loaded>\n",
      "<Info | 8 non-empty values\n",
      " bads: []\n",
      " ch_names: Fp1, AF3, F3, F7, FC5, FC1, C3, T7, CP5, CP1, P3, P7, PO3, O1, ...\n",
      " chs: 32 EEG, 1 STIM\n",
      " custom_ref_applied: True\n",
      " highpass: 0.0 Hz\n",
      " lowpass: 52.0 Hz\n",
      " meas_date: 2009-07-09 17:50:54 UTC\n",
      " nchan: 33\n",
      " projs: []\n",
      " sfreq: 256.0 Hz\n",
      ">\n",
      "['Fp1', 'AF3', 'F3', 'F7', 'FC5', 'FC1', 'C3', 'T7', 'CP5', 'CP1', 'P3', 'P7', 'PO3', 'O1', 'Oz', 'Pz', 'Fp2', 'AF4', 'Fz', 'F4', 'F8', 'FC6', 'FC2', 'Cz', 'C4', 'T8', 'CP6', 'CP2', 'P4', 'P8', 'PO4', 'O2', 'Status']\n"
     ]
    }
   ],
   "source": [
    "print(data_reref)\n",
    "print(data_reref.info)\n",
    "print(data_reref.ch_names)"
   ]
  },
  {
   "cell_type": "code",
   "execution_count": 9,
   "id": "increased-scroll",
   "metadata": {},
   "outputs": [
    {
     "data": {
      "text/plain": [
       "256.0"
      ]
     },
     "execution_count": 9,
     "metadata": {},
     "output_type": "execute_result"
    }
   ],
   "source": [
    "data_reref.info[\"sfreq\"]"
   ]
  },
  {
   "cell_type": "markdown",
   "id": "graphic-selection",
   "metadata": {},
   "source": [
    "#### Sensor map"
   ]
  },
  {
   "cell_type": "code",
   "execution_count": 10,
   "id": "formal-front",
   "metadata": {},
   "outputs": [
    {
     "data": {
      "image/png": "[encoded data removed]",
      "text/plain": [
       "<Figure size 842.4x842.4 with 1 Axes>"
      ]
     },
     "metadata": {
      "needs_background": "light"
     },
     "output_type": "display_data"
    }
   ],
   "source": [
    "data_reref.set_montage('standard_1020')\n",
    "data_reref.plot_sensors(show_names=True)\n",
    "plt.show()"
   ]
  },
  {
   "cell_type": "markdown",
   "id": "voluntary-highway",
   "metadata": {},
   "source": [
    "#### Filter"
   ]
  },
  {
   "cell_type": "code",
   "execution_count": null,
   "id": "behavioral-maldives",
   "metadata": {},
   "outputs": [],
   "source": [
    "data_reref.plot(duration=10, n_channels=32)\n",
    "plt.show()"
   ]
  },
  {
   "cell_type": "code",
   "execution_count": null,
   "id": "common-mixer",
   "metadata": {},
   "outputs": [],
   "source": [
    "data_reref.plot_psd()\n",
    "plt.show()"
   ]
  },
  {
   "cell_type": "code",
   "execution_count": null,
   "id": "alternative-comedy",
   "metadata": {},
   "outputs": [],
   "source": [
    "data_reref.plot_psd(fmin=45, fmax=55)\n",
    "plt.show()"
   ]
  },
  {
   "cell_type": "code",
   "execution_count": null,
   "id": "complete-hebrew",
   "metadata": {},
   "outputs": [],
   "source": [
    "data_filt = data_reref.copy().filter(l_freq=1, h_freq=49)"
   ]
  },
  {
   "cell_type": "code",
   "execution_count": null,
   "id": "preliminary-boutique",
   "metadata": {},
   "outputs": [],
   "source": [
    "data_reref.plot(duration=160, n_channels=32)\n",
    "plt.show()"
   ]
  },
  {
   "cell_type": "code",
   "execution_count": null,
   "id": "simple-officer",
   "metadata": {},
   "outputs": [],
   "source": [
    "data_filt.plot(duration=160, n_channels=32)\n",
    "plt.show()"
   ]
  },
  {
   "cell_type": "code",
   "execution_count": null,
   "id": "unnecessary-bowling",
   "metadata": {},
   "outputs": [],
   "source": [
    "data_filt.plot(duration=10, n_channels=32)\n",
    "plt.show()"
   ]
  },
  {
   "cell_type": "markdown",
   "id": "aggregate-contribution",
   "metadata": {},
   "source": [
    "#### ICA"
   ]
  },
  {
   "cell_type": "code",
   "execution_count": null,
   "id": "continued-transformation",
   "metadata": {},
   "outputs": [],
   "source": [
    "ica = ICA(n_components=15, max_iter=1000, random_state=413)\n",
    "ica.fit(data_filt)\n",
    "ica"
   ]
  },
  {
   "cell_type": "code",
   "execution_count": null,
   "id": "considered-explanation",
   "metadata": {},
   "outputs": [],
   "source": [
    "ica.plot_sources(data_filt)\n",
    "plt.show()"
   ]
  },
  {
   "cell_type": "code",
   "execution_count": null,
   "id": "skilled-editor",
   "metadata": {
    "tags": []
   },
   "outputs": [],
   "source": [
    "ica.plot_components()"
   ]
  },
  {
   "cell_type": "markdown",
   "id": "effective-cemetery",
   "metadata": {},
   "source": [
    "Project back to channels"
   ]
  },
  {
   "cell_type": "code",
   "execution_count": null,
   "id": "rental-knowing",
   "metadata": {},
   "outputs": [],
   "source": [
    "ica.exclude = [0, 1]\n",
    "data_ica = data_filt.copy()\n",
    "ica.apply(data_ica)\n",
    "\n",
    "data_filt.plot(show_scrollbars=False)\n",
    "data_ica.plot(show_scrollbars=False)\n",
    "plt.show()"
   ]
  },
  {
   "cell_type": "markdown",
   "id": "promising-province",
   "metadata": {},
   "source": [
    "#### Cut out Stimuli presentation data"
   ]
  },
  {
   "cell_type": "code",
   "execution_count": null,
   "id": "protective-level",
   "metadata": {},
   "outputs": [],
   "source": [
    "# Cannot find method of conversion. Use time index / sampling frequency\n",
    "event_indexes = [events[x][0] for x in range(len(events))]\n",
    "sampling_freq = int(data_ica.info[\"sfreq\"])\n",
    "event_times = [int(index / sampling_freq) for index in event_indexes]\n",
    "\n",
    "data_cropped = data_ica.copy().drop_channels(STIM_CHANNELS)\n",
    "data_cropped.crop(tmin=event_times[0], tmax=event_times[1])"
   ]
  },
  {
   "cell_type": "code",
   "execution_count": null,
   "id": "bigger-anthony",
   "metadata": {},
   "outputs": [],
   "source": [
    "data_cropped.plot(duration=105, n_channels=32)\n",
    "plt.show()"
   ]
  },
  {
   "cell_type": "code",
   "execution_count": null,
   "id": "advisory-beast",
   "metadata": {},
   "outputs": [],
   "source": [
    "print(data_cropped.info)"
   ]
  },
  {
   "cell_type": "markdown",
   "id": "legitimate-summit",
   "metadata": {},
   "source": [
    "## Feature Extraction"
   ]
  },
  {
   "cell_type": "markdown",
   "id": "preliminary-cement",
   "metadata": {},
   "source": [
    "For a relatively small number of features, we let:"
   ]
  },
  {
   "cell_type": "code",
   "execution_count": null,
   "id": "brazilian-messenger",
   "metadata": {},
   "outputs": [],
   "source": [
    "num_freq_bands = 2\n",
    "num_channels = 5\n",
    "duration = int(len(data_cropped) / sampling_freq)\n",
    "num_sample = int(duration / 4)"
   ]
  },
  {
   "cell_type": "markdown",
   "id": "young-pathology",
   "metadata": {},
   "source": [
    "For actual model comparision, probably need multiple feature extractions with different channels and frequency bands used.\n",
    "\n",
    "For now, stick to a set group of frequency bands and channels"
   ]
  },
  {
   "cell_type": "code",
   "execution_count": null,
   "id": "joint-dallas",
   "metadata": {},
   "outputs": [],
   "source": [
    "freq_bands = [\"alpha\", \"beta\"]\n",
    "channels = [\"F3\", \"Fz\", \"F4\", \"FC1\", \"FC2\"]"
   ]
  },
  {
   "cell_type": "markdown",
   "id": "native-coupon",
   "metadata": {},
   "source": [
    "#### Make Frequency band"
   ]
  },
  {
   "cell_type": "code",
   "execution_count": null,
   "id": "improved-exclusion",
   "metadata": {},
   "outputs": [],
   "source": [
    "data_used = data_cropped.copy().pick_channels(ch_names=channels)\n",
    "\n",
    "list_data_by_freq = []\n",
    "for i in range(len(freq_bands)):\n",
    "    list_data_by_freq.append(\n",
    "        data_used.copy().filter(\n",
    "            l_freq=FREQ_RANGES[freq_bands[i]][0], \n",
    "            h_freq=FREQ_RANGES[freq_bands[i]][1]\n",
    "        )\n",
    "    )"
   ]
  },
  {
   "cell_type": "code",
   "execution_count": null,
   "id": "maritime-basin",
   "metadata": {
    "tags": []
   },
   "outputs": [],
   "source": [
    "print(list_data_by_freq)"
   ]
  },
  {
   "cell_type": "code",
   "execution_count": null,
   "id": "encouraging-porcelain",
   "metadata": {},
   "outputs": [],
   "source": [
    "list_data_by_freq[0].plot(duration=105)\n",
    "plt.show()"
   ]
  },
  {
   "cell_type": "code",
   "execution_count": null,
   "id": "treated-cabin",
   "metadata": {},
   "outputs": [],
   "source": [
    "list_data_by_freq[1].plot(duration=105)\n",
    "plt.show()"
   ]
  },
  {
   "cell_type": "markdown",
   "id": "unlike-crisis",
   "metadata": {},
   "source": [
    "#### Z-score data & Hilbert transform"
   ]
  },
  {
   "cell_type": "code",
   "execution_count": null,
   "id": "variable-transaction",
   "metadata": {},
   "outputs": [],
   "source": [
    "# Code from limbic-analysis-dynamics feature extraction scripts\n",
    "# See https://github.com/TNEL-UCSD/limbic-analysis-dynamics/blob/master/\n",
    "#     scripts/iads_gen_features.py\n",
    "for data in list_data_by_freq:\n",
    "    data_hilbert = data.get_data()\n",
    "    # mean across time per channel\n",
    "    m = np.mean(data_hilbert, axis=1)\n",
    "    m = np.tile(m,(data_hilbert.shape[1],1)).T\n",
    "    s = np.std(data_hilbert, axis=1, ddof=1)\n",
    "    s = np.tile(s, (data_hilbert.shape[1],1)).T\n",
    "    z_score = (data_hilbert - m) / s\n",
    "\n",
    "    data.apply_function(lambda _: z_score, channel_wise=False)\n",
    "    data.apply_hilbert(n_jobs=16, envelope=True)\n",
    "    data.apply_function(np.square, dtype=np.float64)"
   ]
  },
  {
   "cell_type": "code",
   "execution_count": null,
   "id": "acknowledged-wayne",
   "metadata": {},
   "outputs": [],
   "source": [
    "import pandas as pd\n",
    "import seaborn as sns"
   ]
  },
  {
   "cell_type": "code",
   "execution_count": null,
   "id": "sound-magic",
   "metadata": {},
   "outputs": [],
   "source": [
    "alpha = pd.DataFrame(list_data_by_freq[0].get_data().T, columns=channels)\n",
    "beta = pd.DataFrame(list_data_by_freq[1].get_data().T, columns=channels)"
   ]
  },
  {
   "cell_type": "code",
   "execution_count": null,
   "id": "honey-australia",
   "metadata": {},
   "outputs": [],
   "source": [
    "sns.lineplot(data=alpha)"
   ]
  },
  {
   "cell_type": "code",
   "execution_count": null,
   "id": "imported-helena",
   "metadata": {},
   "outputs": [],
   "source": [
    "sns.lineplot(data=beta)"
   ]
  },
  {
   "cell_type": "markdown",
   "id": "inner-colors",
   "metadata": {},
   "source": [
    "#### Resampling & making feature array"
   ]
  },
  {
   "cell_type": "code",
   "execution_count": null,
   "id": "everyday-crowd",
   "metadata": {},
   "outputs": [],
   "source": [
    "# Lose some data at the end of the recording. < 30/256 = 0.12s\n",
    "num_index = len(alpha[\"FC1\"])\n",
    "idx_per_sample = int(num_index / num_sample)\n",
    "sample_seps = [x * idx_per_sample for x in range(num_sample + 1)]\n",
    "\n",
    "print(\"Number of samples:\", num_sample)"
   ]
  },
  {
   "cell_type": "code",
   "execution_count": null,
   "id": "honest-anchor",
   "metadata": {},
   "outputs": [],
   "source": [
    "alpha_array = np.array(alpha.T)\n",
    "beta_array = np.array(beta.T)\n",
    "\n",
    "features = []\n",
    "for a_ch, b_ch in zip(alpha_array, beta_array):\n",
    "    channel = []\n",
    "    \n",
    "    for i in range(len(sample_seps) - 1):\n",
    "        start = sample_seps[i]\n",
    "        end = sample_seps[i+1]\n",
    "        \n",
    "        alpha_sample = np.mean(a_ch[start:end])\n",
    "        beta_sample = np.mean(b_ch[start:end])\n",
    "        \n",
    "        channel.append(alpha_sample)\n",
    "        channel.append(beta_sample)\n",
    "        \n",
    "    features.append(channel)"
   ]
  },
  {
   "cell_type": "markdown",
   "id": "verified-fault",
   "metadata": {},
   "source": [
    "__!!! Note: The above code make all alpha band samples have odd index in the feature array, and even indexes for beta band.__"
   ]
  },
  {
   "cell_type": "code",
   "execution_count": null,
   "id": "educated-transaction",
   "metadata": {},
   "outputs": [],
   "source": [
    "np.shape(features)"
   ]
  },
  {
   "cell_type": "markdown",
   "id": "studied-revelation",
   "metadata": {
    "tags": []
   },
   "source": [
    "#### Make 1D array (?)"
   ]
  },
  {
   "cell_type": "markdown",
   "id": "conceptual-romance",
   "metadata": {},
   "source": [
    "## Extract Affect"
   ]
  },
  {
   "cell_type": "code",
   "execution_count": null,
   "id": "recognized-tribune",
   "metadata": {},
   "outputs": [],
   "source": [
    "xml_path = os.path.join(dataset_path, session_path, meta_data_path)\n",
    "tree = et.parse(xml_path)\n",
    "root = tree.getroot()\n",
    "va_results = [valence, arousal] = [int(root.attrib[\"feltVlnc\"]), \n",
    "                                   int(root.attrib[\"feltArsl\"])]"
   ]
  },
  {
   "cell_type": "markdown",
   "id": "olive-surname",
   "metadata": {},
   "source": [
    "Following Siddarth study, classify into 4 category: \"low valence low arousal\", \"low valence high arousal\", \"high valence low arousal\", and \"high valence high arousal\"."
   ]
  },
  {
   "cell_type": "code",
   "execution_count": null,
   "id": "collected-biotechnology",
   "metadata": {},
   "outputs": [],
   "source": [
    "cutoff = 5\n",
    "categories = {\n",
    "    \"lvla\": 0,\n",
    "    \"lvha\": 1,\n",
    "    \"hvla\": 2,\n",
    "    \"hvha\": 3\n",
    "}\n",
    "\n",
    "result = -1\n",
    "\n",
    "if (valence <= cutoff) and (arousal <= cutoff):\n",
    "    result = 0\n",
    "elif (valence <= cutoff) and (arousal > cutoff):\n",
    "    result = 1\n",
    "elif (valence > cutoff) and (arousal <= cutoff):\n",
    "    result = 2\n",
    "else:\n",
    "    result = 3"
   ]
  },
  {
   "cell_type": "markdown",
   "id": "earned-messenger",
   "metadata": {},
   "source": [
    "#### Prediction based on features"
   ]
  },
  {
   "cell_type": "markdown",
   "id": "designed-summer",
   "metadata": {},
   "source": [
    "Use LDA"
   ]
  },
  {
   "cell_type": "code",
   "execution_count": null,
   "id": "inclusive-favorite",
   "metadata": {},
   "outputs": [],
   "source": [
    "# from sklearn.discriminant_analysis import LinearDiscriminantAnalysis as LDA"
   ]
  },
  {
   "cell_type": "markdown",
   "id": "extra-tourism",
   "metadata": {},
   "source": [
    "Use scikit-learn for LDA"
   ]
  }
 ],
 "metadata": {
  "kernelspec": {
   "display_name": "Python 3",
   "language": "python",
   "name": "python3"
  },
  "language_info": {
   "codemirror_mode": {
    "name": "ipython",
    "version": 3
   },
   "file_extension": ".py",
   "mimetype": "text/x-python",
   "name": "python",
   "nbconvert_exporter": "python",
   "pygments_lexer": "ipython3",
   "version": "3.8.8"
  }
 },
 "nbformat": 4,
 "nbformat_minor": 5
}
