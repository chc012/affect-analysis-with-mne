{
 "cells": [
  {
   "cell_type": "markdown",
   "id": "blind-pharmacy",
   "metadata": {},
   "source": [
    "# Processing all session data and predict subject emotion with LDA"
   ]
  },
  {
   "cell_type": "markdown",
   "id": "aging-halifax",
   "metadata": {},
   "source": [
    "## Set up"
   ]
  },
  {
   "cell_type": "code",
   "execution_count": 1,
   "id": "atlantic-fitness",
   "metadata": {},
   "outputs": [
    {
     "name": "stderr",
     "output_type": "stream",
     "text": [
      "Matplotlib created a temporary config/cache directory at /tmp/matplotlib-k4g1hz_2 because the default path (/home/chc012/.cache/matplotlib) is not a writable directory; it is highly recommended to set the MPLCONFIGDIR environment variable to a writable directory, in particular to speed up the import of Matplotlib and to better support multiprocessing.\n"
     ]
    }
   ],
   "source": [
    "import os\n",
    "import glob\n",
    "import time\n",
    "import matplotlib.pyplot as plt\n",
    "from matplotlib import rcParams\n",
    "\n",
    "from sklearn.discriminant_analysis import LinearDiscriminantAnalysis as LDA\n",
    "from sklearn.svm import SVC\n",
    "from sklearn.model_selection import cross_val_score\n",
    "from sklearn.pipeline import make_pipeline\n",
    "from sklearn.preprocessing import StandardScaler\n",
    "\n",
    "from get_feature_response import *\n",
    "\n",
    "# figure size in inches: \n",
    "# https://stackoverflow.com/questions/31594549/\n",
    "# how-to-change-the-figure-size-of-a-seaborn-axes-or-figure-level-plot\n",
    "rcParams['figure.figsize'] = 11.7,8.27"
   ]
  },
  {
   "cell_type": "code",
   "execution_count": 2,
   "id": "convenient-forth",
   "metadata": {},
   "outputs": [],
   "source": [
    "CATEGORIES = {\n",
    "    (0, 0) : \"lvla\",\n",
    "    (0, 1) : \"lvha\",\n",
    "    (1, 0) : \"hvla\",\n",
    "    (1, 1) : \"hvha\"\n",
    "}\n",
    "\n",
    "min_record_len = 35"
   ]
  },
  {
   "cell_type": "markdown",
   "id": "organizational-cotton",
   "metadata": {
    "tags": []
   },
   "source": [
    "### Get preprocessed data"
   ]
  },
  {
   "cell_type": "code",
   "execution_count": 3,
   "id": "civil-consequence",
   "metadata": {
    "tags": []
   },
   "outputs": [],
   "source": [
    "%%capture \n",
    "start_time = time.time()\n",
    "\n",
    "raw_path = \"raw\"\n",
    "all_sessions = os.listdir(raw_path)\n",
    "\n",
    "loaded_raws = []\n",
    "\n",
    "for session in all_sessions:\n",
    "    session_path = os.path.join(raw_path, session)\n",
    "    raw = mne.io.Raw(session_path, preload=True)\n",
    "    \n",
    "    loaded_raws.append(raw)"
   ]
  },
  {
   "cell_type": "code",
   "execution_count": 4,
   "id": "durable-bible",
   "metadata": {},
   "outputs": [
    {
     "name": "stdout",
     "output_type": "stream",
     "text": [
      "Took 3.127345561981201s to finish.\n"
     ]
    }
   ],
   "source": [
    "print(\"Took %ss to finish.\" % (time.time() - start_time))"
   ]
  },
  {
   "cell_type": "markdown",
   "id": "occupied-savage",
   "metadata": {},
   "source": [
    "### Get emotion response"
   ]
  },
  {
   "cell_type": "code",
   "execution_count": 5,
   "id": "institutional-begin",
   "metadata": {
    "tags": []
   },
   "outputs": [
    {
     "name": "stdout",
     "output_type": "stream",
     "text": [
      "Back to directory:  /home/jovyan/mahnob/attended-gaze/full-session\n"
     ]
    }
   ],
   "source": [
    "dataset_path = \"/net2/expData/affective_eeg/mahnob_dataset/Sessions\"\n",
    "meta_data_path = \"session.xml\"\n",
    "all_session_nums = os.listdir(dataset_path) # List of all session names\n",
    "\n",
    "session_nums = [] # Sessions with bdf recordings\n",
    "\n",
    "# Get current working directory to change back later\n",
    "curr_dir = os.getcwd()\n",
    "\n",
    "# From data manual, bdf file may not exist if \"the trials is missing due to \n",
    "# technical difficulties\" (pg 15).\n",
    "# Skip all sessions with no bdf recordings\n",
    "for session in all_session_nums:\n",
    "    session_path = os.path.join(dataset_path, session)\n",
    "    os.chdir(session_path)\n",
    "    bdf_list = glob.glob(\"*.bdf\")\n",
    "    \n",
    "    if (len(bdf_list) == 1):\n",
    "        session_nums.append(session)\n",
    "    \n",
    "    elif (len(bdf_list) > 1):\n",
    "        raise ValueError(\"Cannot handle multiple bdf files in one session.\")\n",
    "\n",
    "# Change back to notebook directory as a precaution\n",
    "os.chdir(curr_dir)\n",
    "print(\"Back to directory: \", os.getcwd())\n",
    "\n",
    "response_list = []\n",
    "\n",
    "for session in session_nums:\n",
    "    xml_path = os.path.join(dataset_path, session, meta_data_path)\n",
    "    resp = get_affect(xml_path)\n",
    "    response_list.append(resp)\n",
    "\n",
    "response_array = np.array(response_list)"
   ]
  },
  {
   "cell_type": "code",
   "execution_count": 6,
   "id": "absent-elements",
   "metadata": {},
   "outputs": [
    {
     "name": "stdout",
     "output_type": "stream",
     "text": [
      "response_array shape: (527, 2)\n"
     ]
    }
   ],
   "source": [
    "print(\"response_array shape:\", np.shape(response_array))"
   ]
  },
  {
   "cell_type": "markdown",
   "id": "prime-graduation",
   "metadata": {},
   "source": [
    "## 1. Alpha+Beta band & 2.5 sec window"
   ]
  },
  {
   "cell_type": "code",
   "execution_count": 7,
   "id": "aggressive-citizenship",
   "metadata": {},
   "outputs": [],
   "source": [
    "FREQ_BANDS = [\"alpha\", \"beta\"]\n",
    "CHANNELS = [\"F3\", \"Fz\", \"F4\", \"FC1\", \"FC2\"]\n",
    "WINDOW = 2.5"
   ]
  },
  {
   "cell_type": "markdown",
   "id": "registered-prototype",
   "metadata": {},
   "source": [
    "### Feature extraction"
   ]
  },
  {
   "cell_type": "markdown",
   "id": "comfortable-generator",
   "metadata": {},
   "source": [
    "__Warning: Long run time.__"
   ]
  },
  {
   "cell_type": "code",
   "execution_count": 8,
   "id": "arabic-documentation",
   "metadata": {},
   "outputs": [],
   "source": [
    "%%capture\n",
    "start_time = time.time()\n",
    "\n",
    "features_list = []\n",
    "features_red_dim_list = []\n",
    "\n",
    "for raw in loaded_raws:\n",
    "    _features, _features_red_dim = bdf_to_features(raw=raw, \n",
    "                                                   duration=min_record_len,\n",
    "                                                   freq_bands=FREQ_BANDS, \n",
    "                                                   chs=CHANNELS,\n",
    "                                                   window=WINDOW)\n",
    "    features_list.append(_features)\n",
    "    features_red_dim_list.append(_features_red_dim)\n",
    "\n",
    "features_array = np.array(features_list)\n",
    "features_red_dim_array = np.array(features_red_dim_list)"
   ]
  },
  {
   "cell_type": "code",
   "execution_count": 9,
   "id": "designed-disclaimer",
   "metadata": {},
   "outputs": [
    {
     "name": "stdout",
     "output_type": "stream",
     "text": [
      "Took 19.51746892929077s to finish.\n",
      "features_list shape: (527, 2, 5, 14)\n",
      "features_red_dim_list shape: (527, 140)\n"
     ]
    }
   ],
   "source": [
    "print(\"Took %ss to finish.\" % (time.time() - start_time))\n",
    "print(\"features_list shape:\", np.shape(features_list))\n",
    "print(\"features_red_dim_list shape:\", np.shape(features_red_dim_list))"
   ]
  },
  {
   "cell_type": "markdown",
   "id": "editorial-microwave",
   "metadata": {},
   "source": [
    "### Prediction"
   ]
  },
  {
   "cell_type": "markdown",
   "id": "twenty-twins",
   "metadata": {},
   "source": [
    "#### LDA"
   ]
  },
  {
   "cell_type": "code",
   "execution_count": 10,
   "id": "integral-trustee",
   "metadata": {},
   "outputs": [
    {
     "name": "stdout",
     "output_type": "stream",
     "text": [
      "[0.52830189 0.55660377 0.51428571 0.56190476 0.54285714]\n"
     ]
    }
   ],
   "source": [
    "lda_v = LDA()\n",
    "lda_v_1_scores = cross_val_score(lda_v, features_red_dim_list, response_array[:,0], cv=5)\n",
    "print(lda_v_1_scores)"
   ]
  },
  {
   "cell_type": "code",
   "execution_count": 11,
   "id": "unusual-shift",
   "metadata": {},
   "outputs": [
    {
     "name": "stdout",
     "output_type": "stream",
     "text": [
      "[0.58490566 0.53773585 0.51428571 0.4952381  0.44761905]\n"
     ]
    }
   ],
   "source": [
    "lda_a = LDA()\n",
    "lda_a_1_scores = cross_val_score(lda_a, features_red_dim_list, response_array[:,1], cv=5)\n",
    "print(lda_a_1_scores)"
   ]
  },
  {
   "cell_type": "markdown",
   "id": "psychological-ratio",
   "metadata": {},
   "source": [
    "#### SVC"
   ]
  },
  {
   "cell_type": "code",
   "execution_count": 12,
   "id": "median-atlas",
   "metadata": {},
   "outputs": [
    {
     "name": "stdout",
     "output_type": "stream",
     "text": [
      "[0.64150943 0.63207547 0.64761905 0.63809524 0.63809524]\n"
     ]
    }
   ],
   "source": [
    "svc_v = SVC()\n",
    "svc_v_1_scores = cross_val_score(svc_v, features_red_dim_list, response_array[:,0], cv=5)\n",
    "print(svc_v_1_scores)"
   ]
  },
  {
   "cell_type": "code",
   "execution_count": 13,
   "id": "grave-service",
   "metadata": {},
   "outputs": [
    {
     "name": "stdout",
     "output_type": "stream",
     "text": [
      "[0.61320755 0.61320755 0.61904762 0.60952381 0.60952381]\n"
     ]
    }
   ],
   "source": [
    "svc_a = SVC()\n",
    "svc_a_1_scores = cross_val_score(svc_a, features_red_dim_list, response_array[:,1], cv=5)\n",
    "print(svc_a_1_scores)"
   ]
  },
  {
   "cell_type": "markdown",
   "id": "after-account",
   "metadata": {},
   "source": [
    "## 2. Alpha+beta band & 0.5 sec window"
   ]
  },
  {
   "cell_type": "code",
   "execution_count": 14,
   "id": "relevant-upper",
   "metadata": {},
   "outputs": [],
   "source": [
    "FREQ_BANDS = [\"alpha\", \"beta\"]\n",
    "CHANNELS = [\"F3\", \"Fz\", \"F4\", \"FC1\", \"FC2\"]\n",
    "WINDOW = 0.5"
   ]
  },
  {
   "cell_type": "markdown",
   "id": "ambient-review",
   "metadata": {},
   "source": [
    "### Feature extraction"
   ]
  },
  {
   "cell_type": "markdown",
   "id": "experienced-destruction",
   "metadata": {},
   "source": [
    "__Warning: Long run time.__"
   ]
  },
  {
   "cell_type": "code",
   "execution_count": 15,
   "id": "polish-sucking",
   "metadata": {},
   "outputs": [],
   "source": [
    "%%capture\n",
    "start_time = time.time()\n",
    "\n",
    "features_list = []\n",
    "features_red_dim_list = []\n",
    "\n",
    "for raw in loaded_raws:\n",
    "    _features, _features_red_dim = bdf_to_features(raw=raw, \n",
    "                                                   duration=min_record_len, \n",
    "                                                   freq_bands=FREQ_BANDS, \n",
    "                                                   chs=CHANNELS,\n",
    "                                                   window=WINDOW)\n",
    "    features_list.append(_features)\n",
    "    features_red_dim_list.append(_features_red_dim)\n",
    "\n",
    "features_array = np.array(features_list)\n",
    "features_red_dim_array = np.array(features_red_dim_list)"
   ]
  },
  {
   "cell_type": "code",
   "execution_count": 16,
   "id": "postal-leave",
   "metadata": {},
   "outputs": [
    {
     "name": "stdout",
     "output_type": "stream",
     "text": [
      "Took 13.123753547668457s to finish.\n",
      "features_list shape: (527, 2, 5, 70)\n",
      "features_red_dim_list shape: (527, 700)\n"
     ]
    }
   ],
   "source": [
    "print(\"Took %ss to finish.\" % (time.time() - start_time))\n",
    "print(\"features_list shape:\", np.shape(features_list))\n",
    "print(\"features_red_dim_list shape:\", np.shape(features_red_dim_list))"
   ]
  },
  {
   "cell_type": "markdown",
   "id": "nuclear-memorabilia",
   "metadata": {},
   "source": [
    "### Prediction"
   ]
  },
  {
   "cell_type": "markdown",
   "id": "alleged-direction",
   "metadata": {},
   "source": [
    "#### LDA"
   ]
  },
  {
   "cell_type": "code",
   "execution_count": 17,
   "id": "bigger-rescue",
   "metadata": {},
   "outputs": [
    {
     "name": "stdout",
     "output_type": "stream",
     "text": [
      "[0.60377358 0.52830189 0.6        0.53333333 0.59047619]\n"
     ]
    }
   ],
   "source": [
    "lda_v = LDA()\n",
    "lda_v_2_scores = cross_val_score(lda_v, features_red_dim_list, response_array[:,0], cv=5)\n",
    "print(lda_v_2_scores)"
   ]
  },
  {
   "cell_type": "code",
   "execution_count": 18,
   "id": "sorted-drink",
   "metadata": {},
   "outputs": [
    {
     "name": "stdout",
     "output_type": "stream",
     "text": [
      "[0.55660377 0.48113208 0.56190476 0.56190476 0.43809524]\n"
     ]
    }
   ],
   "source": [
    "lda_a = LDA()\n",
    "lda_a_2_scores = cross_val_score(lda_a, features_red_dim_list, response_array[:,1], cv=5)\n",
    "print(lda_a_2_scores)"
   ]
  },
  {
   "cell_type": "markdown",
   "id": "quarterly-painting",
   "metadata": {},
   "source": [
    "#### SVC"
   ]
  },
  {
   "cell_type": "code",
   "execution_count": 19,
   "id": "eleven-perry",
   "metadata": {},
   "outputs": [
    {
     "name": "stdout",
     "output_type": "stream",
     "text": [
      "[0.64150943 0.64150943 0.64761905 0.63809524 0.63809524]\n"
     ]
    }
   ],
   "source": [
    "svc_v = SVC()\n",
    "svc_v_2_scores = cross_val_score(svc_v, features_red_dim_list, response_array[:,0], cv=5)\n",
    "print(svc_v_2_scores)"
   ]
  },
  {
   "cell_type": "code",
   "execution_count": 20,
   "id": "automated-commitment",
   "metadata": {},
   "outputs": [
    {
     "name": "stdout",
     "output_type": "stream",
     "text": [
      "[0.61320755 0.62264151 0.61904762 0.61904762 0.60952381]\n"
     ]
    }
   ],
   "source": [
    "svc_v = make_pipeline(StandardScaler(), SVC())\n",
    "svc_a_2_scores = cross_val_score(svc_a, features_red_dim_list, response_array[:,1], cv=5)\n",
    "print(svc_a_2_scores)"
   ]
  },
  {
   "cell_type": "markdown",
   "id": "daily-certificate",
   "metadata": {},
   "source": [
    "## 3. Alpha+beta+theta band & 2.5 sec window"
   ]
  },
  {
   "cell_type": "code",
   "execution_count": 21,
   "id": "surprised-easter",
   "metadata": {},
   "outputs": [],
   "source": [
    "FREQ_BANDS = [\"alpha\", \"beta\", \"theta\"]\n",
    "CHANNELS = [\"F3\", \"Fz\", \"F4\", \"FC1\", \"FC2\"]\n",
    "WINDOW = 2.5"
   ]
  },
  {
   "cell_type": "markdown",
   "id": "minor-holder",
   "metadata": {},
   "source": [
    "### Feature extraction"
   ]
  },
  {
   "cell_type": "markdown",
   "id": "vocational-livestock",
   "metadata": {},
   "source": [
    "__Warning: Long run time.__"
   ]
  },
  {
   "cell_type": "code",
   "execution_count": null,
   "id": "israeli-chinese",
   "metadata": {},
   "outputs": [],
   "source": [
    "%%capture\n",
    "start_time = time.time()\n",
    "\n",
    "features_list = []\n",
    "features_red_dim_list = []\n",
    "\n",
    "for raw in loaded_raws:\n",
    "    _features, _features_red_dim = bdf_to_features(raw=raw, \n",
    "                                                   duration=min_record_len, \n",
    "                                                   freq_bands=FREQ_BANDS, \n",
    "                                                   chs=CHANNELS,\n",
    "                                                   window=WINDOW)\n",
    "    features_list.append(_features)\n",
    "    features_red_dim_list.append(_features_red_dim)\n",
    "\n",
    "features_array = np.array(features_list)\n",
    "features_red_dim_array = np.array(features_red_dim_list)"
   ]
  },
  {
   "cell_type": "code",
   "execution_count": null,
   "id": "generic-representation",
   "metadata": {},
   "outputs": [],
   "source": [
    "print(\"Took %ss to finish.\" % (time.time() - start_time))\n",
    "print(\"features_list shape:\", np.shape(features_list))\n",
    "print(\"features_red_dim_list shape:\", np.shape(features_red_dim_list))"
   ]
  },
  {
   "cell_type": "markdown",
   "id": "thousand-permission",
   "metadata": {},
   "source": [
    "### Prediction"
   ]
  },
  {
   "cell_type": "markdown",
   "id": "earned-commercial",
   "metadata": {},
   "source": [
    "#### LDA"
   ]
  },
  {
   "cell_type": "code",
   "execution_count": null,
   "id": "compliant-writing",
   "metadata": {},
   "outputs": [],
   "source": [
    "lda_v = LDA()\n",
    "lda_v_3_scores = cross_val_score(lda_v, features_red_dim_list, response_array[:,0], cv=5)\n",
    "print(lda_v_3_scores)"
   ]
  },
  {
   "cell_type": "code",
   "execution_count": null,
   "id": "israeli-synthetic",
   "metadata": {},
   "outputs": [],
   "source": [
    "lda_a = LDA()\n",
    "lda_a_3_scores = cross_val_score(lda_a, features_red_dim_list, response_array[:,1], cv=5)\n",
    "print(lda_a_3_scores)"
   ]
  },
  {
   "cell_type": "markdown",
   "id": "familiar-universal",
   "metadata": {},
   "source": [
    "#### SVC"
   ]
  },
  {
   "cell_type": "code",
   "execution_count": null,
   "id": "seasonal-sister",
   "metadata": {},
   "outputs": [],
   "source": [
    "svc_v = make_pipeline(StandardScaler(), SVC())\n",
    "svc_v_3_scores = cross_val_score(svc_v, features_red_dim_list, response_array[:,0], cv=5)\n",
    "print(svc_v_3_scores)"
   ]
  },
  {
   "cell_type": "code",
   "execution_count": null,
   "id": "stupid-cylinder",
   "metadata": {},
   "outputs": [],
   "source": [
    "svc_v = make_pipeline(StandardScaler(), SVC())\n",
    "svc_a_3_scores = cross_val_score(svc_a, features_red_dim_list, response_array[:,1], cv=5)\n",
    "print(svc_a_3_scores)"
   ]
  },
  {
   "cell_type": "markdown",
   "id": "advance-messaging",
   "metadata": {},
   "source": [
    "## 4. Alpha+beta band & 2.5 sec window & more frontal channel"
   ]
  },
  {
   "cell_type": "code",
   "execution_count": null,
   "id": "acquired-event",
   "metadata": {},
   "outputs": [],
   "source": [
    "FREQ_BANDS = [\"alpha\", \"beta\"]\n",
    "CHANNELS = [\"F3\", \"Fz\", \"F4\", \"AF3\", \"AF4\"]\n",
    "WINDOW = 2.5"
   ]
  },
  {
   "cell_type": "markdown",
   "id": "large-cooking",
   "metadata": {},
   "source": [
    "### Feature extraction"
   ]
  },
  {
   "cell_type": "markdown",
   "id": "hearing-planet",
   "metadata": {},
   "source": [
    "__Warning: Long run time.__"
   ]
  },
  {
   "cell_type": "code",
   "execution_count": null,
   "id": "closing-witch",
   "metadata": {},
   "outputs": [],
   "source": [
    "%%capture\n",
    "start_time = time.time()\n",
    "\n",
    "features_list = []\n",
    "features_red_dim_list = []\n",
    "\n",
    "for raw in loaded_raws:\n",
    "    _features, _features_red_dim = bdf_to_features(raw=raw, \n",
    "                                                   duration=min_record_len, \n",
    "                                                   freq_bands=FREQ_BANDS, \n",
    "                                                   chs=CHANNELS,\n",
    "                                                   window=WINDOW)\n",
    "    features_list.append(_features)\n",
    "    features_red_dim_list.append(_features_red_dim)\n",
    "\n",
    "features_array = np.array(features_list)\n",
    "features_red_dim_array = np.array(features_red_dim_list)"
   ]
  },
  {
   "cell_type": "code",
   "execution_count": null,
   "id": "efficient-atlas",
   "metadata": {},
   "outputs": [],
   "source": [
    "print(\"Took %ss to finish.\" % (time.time() - start_time))\n",
    "print(\"features_list shape:\", np.shape(features_list))\n",
    "print(\"features_red_dim_list shape:\", np.shape(features_red_dim_list))"
   ]
  },
  {
   "cell_type": "markdown",
   "id": "acting-judgment",
   "metadata": {},
   "source": [
    "### Prediction"
   ]
  },
  {
   "cell_type": "markdown",
   "id": "bacterial-proportion",
   "metadata": {},
   "source": [
    "#### LDA"
   ]
  },
  {
   "cell_type": "code",
   "execution_count": null,
   "id": "parliamentary-balance",
   "metadata": {},
   "outputs": [],
   "source": [
    "lda_v = LDA()\n",
    "lda_v_4_scores = cross_val_score(lda_v, features_red_dim_list, response_array[:,0], cv=5)\n",
    "print(lda_v_4_scores)"
   ]
  },
  {
   "cell_type": "code",
   "execution_count": null,
   "id": "unlimited-chosen",
   "metadata": {},
   "outputs": [],
   "source": [
    "lda_a = LDA()\n",
    "lda_a_4_scores = cross_val_score(lda_a, features_red_dim_list, response_array[:,1], cv=5)\n",
    "print(lda_a_4_scores)"
   ]
  },
  {
   "cell_type": "markdown",
   "id": "invalid-jesus",
   "metadata": {},
   "source": [
    "#### SVC"
   ]
  },
  {
   "cell_type": "code",
   "execution_count": null,
   "id": "macro-strand",
   "metadata": {},
   "outputs": [],
   "source": [
    "svc_v = make_pipeline(StandardScaler(), SVC())\n",
    "svc_v_4_scores = cross_val_score(svc_v, features_red_dim_list, response_array[:,0], cv=5)\n",
    "print(svc_v_4_scores)"
   ]
  },
  {
   "cell_type": "code",
   "execution_count": null,
   "id": "signal-group",
   "metadata": {},
   "outputs": [],
   "source": [
    "svc_v = make_pipeline(StandardScaler(), SVC())\n",
    "svc_a_4_scores = cross_val_score(svc_a, features_red_dim_list, response_array[:,1], cv=5)\n",
    "print(svc_a_4_scores)"
   ]
  },
  {
   "cell_type": "markdown",
   "id": "framed-history",
   "metadata": {},
   "source": [
    "## Evaluation"
   ]
  },
  {
   "cell_type": "markdown",
   "id": "sacred-marking",
   "metadata": {},
   "source": [
    "The four models:\n",
    "1. Alpha+Beta band & 2.5 sec window\n",
    "2. Alpha+beta band & 0.5 sec window\n",
    "3. Alpha+beta+theta band & 2.5 sec window\n",
    "4. Alpha+beta band & 2.5 sec window & more frontal channel (replace FC1 and FC2 with AF3 and AF4)"
   ]
  },
  {
   "cell_type": "markdown",
   "id": "precious-dialogue",
   "metadata": {},
   "source": [
    "### Valence"
   ]
  },
  {
   "cell_type": "code",
   "execution_count": null,
   "id": "historical-three",
   "metadata": {},
   "outputs": [],
   "source": [
    "# Adapted from https://matplotlib.org/stable/gallery/lines_bars_and_markers/barchart.html\n",
    "labels = ['Model 1', 'Model 2', 'Model 3', 'Model 4']\n",
    "\n",
    "lda_v_means = [np.mean(lda_v_1_scores), np.mean(lda_v_2_scores), \n",
    "               np.mean(lda_v_3_scores), np.mean(lda_v_4_scores)]\n",
    "svc_v_means = [np.mean(svc_v_1_scores), np.mean(svc_v_2_scores), \n",
    "               np.mean(svc_v_3_scores), np.mean(svc_v_4_scores)]\n",
    "\n",
    "x = np.arange(len(labels))  # the label locations\n",
    "width = 0.35  # the width of the bars\n",
    "\n",
    "fig, ax = plt.subplots()\n",
    "rects1 = ax.bar(x - width/2, lda_v_means, width, label='LDA')\n",
    "rects2 = ax.bar(x + width/2, svc_v_means, width, label='SVC')\n",
    "\n",
    "# Add some text for labels, title and custom x-axis tick labels, etc.\n",
    "ax.set_ylabel('Scores')\n",
    "ax.set_title('Average cross validation scores of LDA and SVC for valence prediction')\n",
    "ax.set_xticks(x, labels)\n",
    "ax.legend()\n",
    "\n",
    "ax.bar_label(rects1, padding=3)\n",
    "ax.bar_label(rects2, padding=3)\n",
    "\n",
    "fig.tight_layout()\n",
    "\n",
    "plt.show()"
   ]
  },
  {
   "cell_type": "markdown",
   "id": "herbal-johns",
   "metadata": {},
   "source": [
    "### Arousal"
   ]
  },
  {
   "cell_type": "code",
   "execution_count": null,
   "id": "composite-rates",
   "metadata": {},
   "outputs": [],
   "source": [
    "# Adapted from https://matplotlib.org/stable/gallery/lines_bars_and_markers/barchart.html\n",
    "labels = ['Model 1', 'Model 2', 'Model 3', 'Model 4']\n",
    "\n",
    "lda_v_means = [np.mean(lda_a_1_scores), np.mean(lda_a_2_scores), \n",
    "               np.mean(lda_a_3_scores), np.mean(lda_a_4_scores)]\n",
    "svc_v_means = [np.mean(svc_a_1_scores), np.mean(svc_a_2_scores), \n",
    "               np.mean(svc_a_3_scores), np.mean(svc_a_4_scores)]\n",
    "\n",
    "x = np.arange(len(labels))  # the label locations\n",
    "width = 0.35  # the width of the bars\n",
    "\n",
    "fig, ax = plt.subplots()\n",
    "rects1 = ax.bar(x - width/2, lda_v_means, width, label='LDA')\n",
    "rects2 = ax.bar(x + width/2, svc_v_means, width, label='SVC')\n",
    "\n",
    "# Add some text for labels, title and custom x-axis tick labels, etc.\n",
    "ax.set_ylabel('Scores')\n",
    "ax.set_title('Average cross validation scores of LDA and SVC for arousal prediction')\n",
    "ax.set_xticks(x, labels)\n",
    "ax.legend()\n",
    "\n",
    "ax.bar_label(rects1, padding=3)\n",
    "ax.bar_label(rects2, padding=3)\n",
    "\n",
    "fig.tight_layout()\n",
    "\n",
    "plt.show()"
   ]
  },
  {
   "cell_type": "code",
   "execution_count": null,
   "id": "magnetic-berkeley",
   "metadata": {},
   "outputs": [],
   "source": []
  }
 ],
 "metadata": {
  "kernelspec": {
   "display_name": "Python 3",
   "language": "python",
   "name": "python3"
  },
  "language_info": {
   "codemirror_mode": {
    "name": "ipython",
    "version": 3
   },
   "file_extension": ".py",
   "mimetype": "text/x-python",
   "name": "python",
   "nbconvert_exporter": "python",
   "pygments_lexer": "ipython3",
   "version": "3.8.8"
  }
 },
 "nbformat": 4,
 "nbformat_minor": 5
}
