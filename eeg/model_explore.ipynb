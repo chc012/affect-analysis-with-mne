{
 "cells": [
  {
   "cell_type": "markdown",
   "id": "proved-approval",
   "metadata": {},
   "source": [
    "# Processing all session data and predict subject emotion with LDA"
   ]
  },
  {
   "cell_type": "markdown",
   "id": "incorporate-dancing",
   "metadata": {},
   "source": [
    "## Set up"
   ]
  },
  {
   "cell_type": "code",
   "execution_count": null,
   "id": "imported-glance",
   "metadata": {},
   "outputs": [],
   "source": [
    "import os\n",
    "import glob\n",
    "import time\n",
    "import matplotlib.pyplot as plt\n",
    "from matplotlib import rcParams\n",
    "\n",
    "from sklearn.discriminant_analysis import LinearDiscriminantAnalysis as LDA\n",
    "from sklearn.svm import SVC\n",
    "from sklearn.model_selection import cross_val_score\n",
    "from sklearn.pipeline import make_pipeline\n",
    "from sklearn.preprocessing import StandardScaler\n",
    "\n",
    "from get_feature_response import *\n",
    "\n",
    "# figure size in inches: \n",
    "# https://stackoverflow.com/questions/31594549/\n",
    "# how-to-change-the-figure-size-of-a-seaborn-axes-or-figure-level-plot\n",
    "rcParams['figure.figsize'] = 11.7,8.27"
   ]
  },
  {
   "cell_type": "code",
   "execution_count": null,
   "id": "provincial-alignment",
   "metadata": {},
   "outputs": [],
   "source": [
    "CATEGORIES = {\n",
    "    (0, 0) : \"lvla\",\n",
    "    (0, 1) : \"lvha\",\n",
    "    (1, 0) : \"hvla\",\n",
    "    (1, 1) : \"hvha\"\n",
    "}\n",
    "\n",
    "min_record_len = 35"
   ]
  },
  {
   "cell_type": "markdown",
   "id": "accredited-wednesday",
   "metadata": {
    "tags": []
   },
   "source": [
    "### Get preprocessed data"
   ]
  },
  {
   "cell_type": "code",
   "execution_count": null,
   "id": "buried-plenty",
   "metadata": {
    "tags": []
   },
   "outputs": [],
   "source": [
    "%%capture \n",
    "start_time = time.time()\n",
    "\n",
    "raw_path = \"raw\"\n",
    "all_sessions = os.listdir(raw_path)\n",
    "\n",
    "loaded_raws = []\n",
    "\n",
    "for session in all_sessions:\n",
    "    session_path = os.path.join(raw_path, session)\n",
    "    raw = mne.io.Raw(session_path, preload=True)\n",
    "    \n",
    "    loaded_raws.append(raw)"
   ]
  },
  {
   "cell_type": "code",
   "execution_count": null,
   "id": "experimental-firmware",
   "metadata": {},
   "outputs": [],
   "source": [
    "print(\"Took %ss to finish.\" % (time.time() - start_time))"
   ]
  },
  {
   "cell_type": "markdown",
   "id": "referenced-poker",
   "metadata": {},
   "source": [
    "### Get emotion response"
   ]
  },
  {
   "cell_type": "code",
   "execution_count": null,
   "id": "fleet-advantage",
   "metadata": {
    "tags": []
   },
   "outputs": [],
   "source": [
    "dataset_path = \"/net2/expData/affective_eeg/mahnob_dataset/Sessions\"\n",
    "meta_data_path = \"session.xml\"\n",
    "all_session_nums = os.listdir(dataset_path) # List of all session names\n",
    "\n",
    "session_nums = [] # Sessions with bdf recordings\n",
    "\n",
    "# Get current working directory to change back later\n",
    "curr_dir = os.getcwd()\n",
    "\n",
    "# From data manual, bdf file may not exist if \"the trials is missing due to \n",
    "# technical difficulties\" (pg 15).\n",
    "# Skip all sessions with no bdf recordings\n",
    "for session in all_session_nums:\n",
    "    session_path = os.path.join(dataset_path, session)\n",
    "    os.chdir(session_path)\n",
    "    bdf_list = glob.glob(\"*.bdf\")\n",
    "    \n",
    "    if (len(bdf_list) == 1):\n",
    "        session_nums.append(session)\n",
    "    \n",
    "    elif (len(bdf_list) > 1):\n",
    "        raise ValueError(\"Cannot handle multiple bdf files in one session.\")\n",
    "\n",
    "# Change back to notebook directory as a precaution\n",
    "os.chdir(curr_dir)\n",
    "print(\"Back to directory: \", os.getcwd())\n",
    "\n",
    "response_list = []\n",
    "\n",
    "for session in session_nums:\n",
    "    xml_path = os.path.join(dataset_path, session, meta_data_path)\n",
    "    resp = get_affect(xml_path)\n",
    "    response_list.append(resp)\n",
    "\n",
    "response_array = np.array(response_list)"
   ]
  },
  {
   "cell_type": "code",
   "execution_count": null,
   "id": "dietary-chance",
   "metadata": {},
   "outputs": [],
   "source": [
    "print(\"response_array shape:\", np.shape(response_array))"
   ]
  },
  {
   "cell_type": "markdown",
   "id": "overall-struggle",
   "metadata": {},
   "source": [
    "## 1. Alpha+Beta band & 2.5 sec window"
   ]
  },
  {
   "cell_type": "code",
   "execution_count": null,
   "id": "massive-introduction",
   "metadata": {},
   "outputs": [],
   "source": [
    "FREQ_BANDS = [\"alpha\", \"beta\"]\n",
    "CHANNELS = [\"F3\", \"Fz\", \"F4\", \"FC1\", \"FC2\"]\n",
    "WINDOW = 2.5"
   ]
  },
  {
   "cell_type": "markdown",
   "id": "competent-length",
   "metadata": {},
   "source": [
    "### Feature extraction"
   ]
  },
  {
   "cell_type": "markdown",
   "id": "defensive-corrections",
   "metadata": {},
   "source": [
    "__Warning: Long run time.__"
   ]
  },
  {
   "cell_type": "code",
   "execution_count": null,
   "id": "stable-financing",
   "metadata": {},
   "outputs": [],
   "source": [
    "%%capture\n",
    "start_time = time.time()\n",
    "\n",
    "features_list = []\n",
    "features_red_dim_list = []\n",
    "\n",
    "for raw in loaded_raws:\n",
    "    _features, _features_red_dim = bdf_to_features(raw=raw, \n",
    "                                                   duration=min_record_len,\n",
    "                                                   freq_bands=FREQ_BANDS, \n",
    "                                                   chs=CHANNELS,\n",
    "                                                   window=WINDOW)\n",
    "    features_list.append(_features)\n",
    "    features_red_dim_list.append(_features_red_dim)\n",
    "\n",
    "features_array = np.array(features_list)\n",
    "features_red_dim_array = np.array(features_red_dim_list)"
   ]
  },
  {
   "cell_type": "code",
   "execution_count": null,
   "id": "alert-space",
   "metadata": {},
   "outputs": [],
   "source": [
    "print(\"Took %ss to finish.\" % (time.time() - start_time))\n",
    "print(\"features_list shape:\", np.shape(features_list))\n",
    "print(\"features_red_dim_list shape:\", np.shape(features_red_dim_list))"
   ]
  },
  {
   "cell_type": "markdown",
   "id": "standard-honey",
   "metadata": {},
   "source": [
    "### Prediction"
   ]
  },
  {
   "cell_type": "markdown",
   "id": "abandoned-realtor",
   "metadata": {},
   "source": [
    "#### LDA"
   ]
  },
  {
   "cell_type": "code",
   "execution_count": null,
   "id": "normal-italian",
   "metadata": {},
   "outputs": [],
   "source": [
    "lda_v = LDA()\n",
    "lda_v_1_scores = cross_val_score(lda_v, features_red_dim_list, response_array[:,0], cv=5)\n",
    "print(lda_v_1_scores)"
   ]
  },
  {
   "cell_type": "code",
   "execution_count": null,
   "id": "educated-basic",
   "metadata": {},
   "outputs": [],
   "source": [
    "lda_a = LDA()\n",
    "lda_a_1_scores = cross_val_score(lda_a, features_red_dim_list, response_array[:,1], cv=5)\n",
    "print(lda_a_1_scores)"
   ]
  },
  {
   "cell_type": "markdown",
   "id": "covered-madonna",
   "metadata": {},
   "source": [
    "#### SVC"
   ]
  },
  {
   "cell_type": "code",
   "execution_count": null,
   "id": "smaller-rolling",
   "metadata": {},
   "outputs": [],
   "source": [
    "svc_v = SVC()\n",
    "svc_v_1_scores = cross_val_score(svc_v, features_red_dim_list, response_array[:,0], cv=5)\n",
    "print(svc_v_1_scores)"
   ]
  },
  {
   "cell_type": "code",
   "execution_count": null,
   "id": "obvious-sally",
   "metadata": {},
   "outputs": [],
   "source": [
    "svc_a = SVC()\n",
    "svc_a_1_scores = cross_val_score(svc_a, features_red_dim_list, response_array[:,1], cv=5)\n",
    "print(svc_a_1_scores)"
   ]
  },
  {
   "cell_type": "markdown",
   "id": "plastic-space",
   "metadata": {},
   "source": [
    "## 2. Alpha+beta band & 0.5 sec window"
   ]
  },
  {
   "cell_type": "code",
   "execution_count": null,
   "id": "prescription-volunteer",
   "metadata": {},
   "outputs": [],
   "source": [
    "FREQ_BANDS = [\"alpha\", \"beta\"]\n",
    "CHANNELS = [\"F3\", \"Fz\", \"F4\", \"FC1\", \"FC2\"]\n",
    "WINDOW = 0.5"
   ]
  },
  {
   "cell_type": "markdown",
   "id": "bacterial-title",
   "metadata": {},
   "source": [
    "### Feature extraction"
   ]
  },
  {
   "cell_type": "markdown",
   "id": "certified-boost",
   "metadata": {},
   "source": [
    "__Warning: Long run time.__"
   ]
  },
  {
   "cell_type": "code",
   "execution_count": null,
   "id": "dress-question",
   "metadata": {},
   "outputs": [],
   "source": [
    "%%capture\n",
    "start_time = time.time()\n",
    "\n",
    "features_list = []\n",
    "features_red_dim_list = []\n",
    "\n",
    "for raw in loaded_raws:\n",
    "    _features, _features_red_dim = bdf_to_features(raw=raw, \n",
    "                                                   duration=min_record_len, \n",
    "                                                   freq_bands=FREQ_BANDS, \n",
    "                                                   chs=CHANNELS,\n",
    "                                                   window=WINDOW)\n",
    "    features_list.append(_features)\n",
    "    features_red_dim_list.append(_features_red_dim)\n",
    "\n",
    "features_array = np.array(features_list)\n",
    "features_red_dim_array = np.array(features_red_dim_list)"
   ]
  },
  {
   "cell_type": "code",
   "execution_count": null,
   "id": "democratic-cattle",
   "metadata": {},
   "outputs": [],
   "source": [
    "print(\"Took %ss to finish.\" % (time.time() - start_time))\n",
    "print(\"features_list shape:\", np.shape(features_list))\n",
    "print(\"features_red_dim_list shape:\", np.shape(features_red_dim_list))"
   ]
  },
  {
   "cell_type": "markdown",
   "id": "dietary-tribe",
   "metadata": {},
   "source": [
    "### Prediction"
   ]
  },
  {
   "cell_type": "markdown",
   "id": "joined-monster",
   "metadata": {},
   "source": [
    "#### LDA"
   ]
  },
  {
   "cell_type": "code",
   "execution_count": null,
   "id": "major-brazilian",
   "metadata": {},
   "outputs": [],
   "source": [
    "lda_v = LDA()\n",
    "lda_v_2_scores = cross_val_score(lda_v, features_red_dim_list, response_array[:,0], cv=5)\n",
    "print(lda_v_2_scores)"
   ]
  },
  {
   "cell_type": "code",
   "execution_count": null,
   "id": "eligible-auction",
   "metadata": {},
   "outputs": [],
   "source": [
    "lda_a = LDA()\n",
    "lda_a_2_scores = cross_val_score(lda_a, features_red_dim_list, response_array[:,1], cv=5)\n",
    "print(lda_a_2_scores)"
   ]
  },
  {
   "cell_type": "markdown",
   "id": "respiratory-disclosure",
   "metadata": {},
   "source": [
    "#### SVC"
   ]
  },
  {
   "cell_type": "code",
   "execution_count": null,
   "id": "irish-robertson",
   "metadata": {},
   "outputs": [],
   "source": [
    "svc_v = SVC()\n",
    "svc_v_2_scores = cross_val_score(svc_v, features_red_dim_list, response_array[:,0], cv=5)\n",
    "print(svc_v_2_scores)"
   ]
  },
  {
   "cell_type": "code",
   "execution_count": null,
   "id": "neither-leisure",
   "metadata": {},
   "outputs": [],
   "source": [
    "svc_v = make_pipeline(StandardScaler(), SVC())\n",
    "svc_a_2_scores = cross_val_score(svc_a, features_red_dim_list, response_array[:,1], cv=5)\n",
    "print(svc_a_2_scores)"
   ]
  },
  {
   "cell_type": "markdown",
   "id": "senior-reliance",
   "metadata": {},
   "source": [
    "## 3. Alpha+beta+theta band & 2.5 sec window"
   ]
  },
  {
   "cell_type": "code",
   "execution_count": null,
   "id": "focused-newark",
   "metadata": {},
   "outputs": [],
   "source": [
    "FREQ_BANDS = [\"alpha\", \"beta\", \"theta\"]\n",
    "CHANNELS = [\"F3\", \"Fz\", \"F4\", \"FC1\", \"FC2\"]\n",
    "WINDOW = 2.5"
   ]
  },
  {
   "cell_type": "markdown",
   "id": "prescribed-clear",
   "metadata": {},
   "source": [
    "### Feature extraction"
   ]
  },
  {
   "cell_type": "markdown",
   "id": "infectious-blink",
   "metadata": {},
   "source": [
    "__Warning: Long run time.__"
   ]
  },
  {
   "cell_type": "code",
   "execution_count": null,
   "id": "loved-parade",
   "metadata": {},
   "outputs": [],
   "source": [
    "%%capture\n",
    "start_time = time.time()\n",
    "\n",
    "features_list = []\n",
    "features_red_dim_list = []\n",
    "\n",
    "for raw in loaded_raws:\n",
    "    _features, _features_red_dim = bdf_to_features(raw=raw, \n",
    "                                                   duration=min_record_len, \n",
    "                                                   freq_bands=FREQ_BANDS, \n",
    "                                                   chs=CHANNELS,\n",
    "                                                   window=WINDOW)\n",
    "    features_list.append(_features)\n",
    "    features_red_dim_list.append(_features_red_dim)\n",
    "\n",
    "features_array = np.array(features_list)\n",
    "features_red_dim_array = np.array(features_red_dim_list)"
   ]
  },
  {
   "cell_type": "code",
   "execution_count": null,
   "id": "flying-barrier",
   "metadata": {},
   "outputs": [],
   "source": [
    "print(\"Took %ss to finish.\" % (time.time() - start_time))\n",
    "print(\"features_list shape:\", np.shape(features_list))\n",
    "print(\"features_red_dim_list shape:\", np.shape(features_red_dim_list))"
   ]
  },
  {
   "cell_type": "markdown",
   "id": "absolute-clock",
   "metadata": {},
   "source": [
    "### Prediction"
   ]
  },
  {
   "cell_type": "markdown",
   "id": "continuous-reviewer",
   "metadata": {},
   "source": [
    "#### LDA"
   ]
  },
  {
   "cell_type": "code",
   "execution_count": null,
   "id": "boxed-primary",
   "metadata": {},
   "outputs": [],
   "source": [
    "lda_v = LDA()\n",
    "lda_v_3_scores = cross_val_score(lda_v, features_red_dim_list, response_array[:,0], cv=5)\n",
    "print(lda_v_3_scores)"
   ]
  },
  {
   "cell_type": "code",
   "execution_count": null,
   "id": "announced-norfolk",
   "metadata": {},
   "outputs": [],
   "source": [
    "lda_a = LDA()\n",
    "lda_a_3_scores = cross_val_score(lda_a, features_red_dim_list, response_array[:,1], cv=5)\n",
    "print(lda_a_3_scores)"
   ]
  },
  {
   "cell_type": "markdown",
   "id": "supposed-polyester",
   "metadata": {},
   "source": [
    "#### SVC"
   ]
  },
  {
   "cell_type": "code",
   "execution_count": null,
   "id": "after-blade",
   "metadata": {},
   "outputs": [],
   "source": [
    "svc_v = make_pipeline(StandardScaler(), SVC())\n",
    "svc_v_3_scores = cross_val_score(svc_v, features_red_dim_list, response_array[:,0], cv=5)\n",
    "print(svc_v_3_scores)"
   ]
  },
  {
   "cell_type": "code",
   "execution_count": null,
   "id": "decreased-verification",
   "metadata": {},
   "outputs": [],
   "source": [
    "svc_v = make_pipeline(StandardScaler(), SVC())\n",
    "svc_a_3_scores = cross_val_score(svc_a, features_red_dim_list, response_array[:,1], cv=5)\n",
    "print(svc_a_3_scores)"
   ]
  },
  {
   "cell_type": "markdown",
   "id": "developed-wiring",
   "metadata": {},
   "source": [
    "## 4. Alpha+beta band & 2.5 sec window & more frontal channel"
   ]
  },
  {
   "cell_type": "code",
   "execution_count": null,
   "id": "functioning-yellow",
   "metadata": {},
   "outputs": [],
   "source": [
    "FREQ_BANDS = [\"alpha\", \"beta\"]\n",
    "CHANNELS = [\"F3\", \"Fz\", \"F4\", \"AF3\", \"AF4\"]\n",
    "WINDOW = 2.5"
   ]
  },
  {
   "cell_type": "markdown",
   "id": "pending-latter",
   "metadata": {},
   "source": [
    "### Feature extraction"
   ]
  },
  {
   "cell_type": "markdown",
   "id": "precise-thesaurus",
   "metadata": {},
   "source": [
    "__Warning: Long run time.__"
   ]
  },
  {
   "cell_type": "code",
   "execution_count": null,
   "id": "cross-stock",
   "metadata": {},
   "outputs": [],
   "source": [
    "%%capture\n",
    "start_time = time.time()\n",
    "\n",
    "features_list = []\n",
    "features_red_dim_list = []\n",
    "\n",
    "for raw in loaded_raws:\n",
    "    _features, _features_red_dim = bdf_to_features(raw=raw, \n",
    "                                                   duration=min_record_len, \n",
    "                                                   freq_bands=FREQ_BANDS, \n",
    "                                                   chs=CHANNELS,\n",
    "                                                   window=WINDOW)\n",
    "    features_list.append(_features)\n",
    "    features_red_dim_list.append(_features_red_dim)\n",
    "\n",
    "features_array = np.array(features_list)\n",
    "features_red_dim_array = np.array(features_red_dim_list)"
   ]
  },
  {
   "cell_type": "code",
   "execution_count": null,
   "id": "derived-visibility",
   "metadata": {},
   "outputs": [],
   "source": [
    "print(\"Took %ss to finish.\" % (time.time() - start_time))\n",
    "print(\"features_list shape:\", np.shape(features_list))\n",
    "print(\"features_red_dim_list shape:\", np.shape(features_red_dim_list))"
   ]
  },
  {
   "cell_type": "markdown",
   "id": "premium-boards",
   "metadata": {},
   "source": [
    "### Prediction"
   ]
  },
  {
   "cell_type": "markdown",
   "id": "spiritual-guidance",
   "metadata": {},
   "source": [
    "#### LDA"
   ]
  },
  {
   "cell_type": "code",
   "execution_count": null,
   "id": "worst-oregon",
   "metadata": {},
   "outputs": [],
   "source": [
    "lda_v = LDA()\n",
    "lda_v_4_scores = cross_val_score(lda_v, features_red_dim_list, response_array[:,0], cv=5)\n",
    "print(lda_v_4_scores)"
   ]
  },
  {
   "cell_type": "code",
   "execution_count": null,
   "id": "executive-guess",
   "metadata": {},
   "outputs": [],
   "source": [
    "lda_a = LDA()\n",
    "lda_a_4_scores = cross_val_score(lda_a, features_red_dim_list, response_array[:,1], cv=5)\n",
    "print(lda_a_4_scores)"
   ]
  },
  {
   "cell_type": "markdown",
   "id": "confidential-pacific",
   "metadata": {},
   "source": [
    "#### SVC"
   ]
  },
  {
   "cell_type": "code",
   "execution_count": null,
   "id": "essential-virtue",
   "metadata": {},
   "outputs": [],
   "source": [
    "svc_v = make_pipeline(StandardScaler(), SVC())\n",
    "svc_v_4_scores = cross_val_score(svc_v, features_red_dim_list, response_array[:,0], cv=5)\n",
    "print(svc_v_4_scores)"
   ]
  },
  {
   "cell_type": "code",
   "execution_count": null,
   "id": "associate-attraction",
   "metadata": {},
   "outputs": [],
   "source": [
    "svc_v = make_pipeline(StandardScaler(), SVC())\n",
    "svc_a_4_scores = cross_val_score(svc_a, features_red_dim_list, response_array[:,1], cv=5)\n",
    "print(svc_a_4_scores)"
   ]
  },
  {
   "cell_type": "markdown",
   "id": "popular-training",
   "metadata": {},
   "source": [
    "## Evaluation"
   ]
  },
  {
   "cell_type": "markdown",
   "id": "british-copying",
   "metadata": {},
   "source": [
    "The four models:\n",
    "1. Alpha+Beta band & 2.5 sec window\n",
    "2. Alpha+beta band & 0.5 sec window\n",
    "3. Alpha+beta+theta band & 2.5 sec window\n",
    "4. Alpha+beta band & 2.5 sec window & more frontal channel (replace FC1 and FC2 with AF3 and AF4)"
   ]
  },
  {
   "cell_type": "markdown",
   "id": "national-quebec",
   "metadata": {},
   "source": [
    "### Valence"
   ]
  },
  {
   "cell_type": "code",
   "execution_count": null,
   "id": "compound-external",
   "metadata": {},
   "outputs": [],
   "source": [
    "# Adapted from https://matplotlib.org/stable/gallery/lines_bars_and_markers/barchart.html\n",
    "labels = ['Model 1', 'Model 2', 'Model 3', 'Model 4']\n",
    "\n",
    "lda_v_means = [np.mean(lda_v_1_scores), np.mean(lda_v_2_scores), \n",
    "               np.mean(lda_v_3_scores), np.mean(lda_v_4_scores)]\n",
    "svc_v_means = [np.mean(svc_v_1_scores), np.mean(svc_v_2_scores), \n",
    "               np.mean(svc_v_3_scores), np.mean(svc_v_4_scores)]\n",
    "\n",
    "x = np.arange(len(labels))  # the label locations\n",
    "width = 0.35  # the width of the bars\n",
    "\n",
    "fig, ax = plt.subplots()\n",
    "rects1 = ax.bar(x - width/2, lda_v_means, width, label='LDA')\n",
    "rects2 = ax.bar(x + width/2, svc_v_means, width, label='SVC')\n",
    "\n",
    "# Add some text for labels, title and custom x-axis tick labels, etc.\n",
    "ax.set_ylabel('Scores')\n",
    "ax.set_title('Average cross validation scores of LDA and SVC for valence prediction')\n",
    "ax.set_xticks(x, labels)\n",
    "ax.legend()\n",
    "\n",
    "ax.bar_label(rects1, padding=3)\n",
    "ax.bar_label(rects2, padding=3)\n",
    "\n",
    "fig.tight_layout()\n",
    "\n",
    "plt.show()"
   ]
  },
  {
   "cell_type": "markdown",
   "id": "israeli-ontario",
   "metadata": {},
   "source": [
    "### Arousal"
   ]
  },
  {
   "cell_type": "code",
   "execution_count": null,
   "id": "about-centre",
   "metadata": {},
   "outputs": [],
   "source": [
    "# Adapted from https://matplotlib.org/stable/gallery/lines_bars_and_markers/barchart.html\n",
    "labels = ['Model 1', 'Model 2', 'Model 3', 'Model 4']\n",
    "\n",
    "lda_v_means = [np.mean(lda_a_1_scores), np.mean(lda_a_2_scores), \n",
    "               np.mean(lda_a_3_scores), np.mean(lda_a_4_scores)]\n",
    "svc_v_means = [np.mean(svc_a_1_scores), np.mean(svc_a_2_scores), \n",
    "               np.mean(svc_a_3_scores), np.mean(svc_a_4_scores)]\n",
    "\n",
    "x = np.arange(len(labels))  # the label locations\n",
    "width = 0.35  # the width of the bars\n",
    "\n",
    "fig, ax = plt.subplots()\n",
    "rects1 = ax.bar(x - width/2, lda_v_means, width, label='LDA')\n",
    "rects2 = ax.bar(x + width/2, svc_v_means, width, label='SVC')\n",
    "\n",
    "# Add some text for labels, title and custom x-axis tick labels, etc.\n",
    "ax.set_ylabel('Scores')\n",
    "ax.set_title('Average cross validation scores of LDA and SVC for arousal prediction')\n",
    "ax.set_xticks(x, labels)\n",
    "ax.legend()\n",
    "\n",
    "ax.bar_label(rects1, padding=3)\n",
    "ax.bar_label(rects2, padding=3)\n",
    "\n",
    "fig.tight_layout()\n",
    "\n",
    "plt.show()"
   ]
  },
  {
   "cell_type": "code",
   "execution_count": null,
   "id": "amended-disease",
   "metadata": {},
   "outputs": [],
   "source": []
  }
 ],
 "metadata": {
  "kernelspec": {
   "display_name": "Python 3",
   "language": "python",
   "name": "python3"
  },
  "language_info": {
   "codemirror_mode": {
    "name": "ipython",
    "version": 3
   },
   "file_extension": ".py",
   "mimetype": "text/x-python",
   "name": "python",
   "nbconvert_exporter": "python",
   "pygments_lexer": "ipython3",
   "version": "3.8.8"
  }
 },
 "nbformat": 4,
 "nbformat_minor": 5
}
