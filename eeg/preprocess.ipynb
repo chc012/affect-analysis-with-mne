{
 "cells": [
  {
   "cell_type": "markdown",
   "id": "equipped-index",
   "metadata": {},
   "source": [
    "# Preprocess data, find minimum data length, and store in file"
   ]
  },
  {
   "cell_type": "markdown",
   "id": "palestinian-baptist",
   "metadata": {},
   "source": [
    "__Warning__: long run time.\n",
    "\n",
    "Store in folder `raw`."
   ]
  },
  {
   "cell_type": "markdown",
   "id": "japanese-local",
   "metadata": {},
   "source": [
    "## Set up"
   ]
  },
  {
   "cell_type": "code",
   "execution_count": null,
   "id": "miniature-adaptation",
   "metadata": {},
   "outputs": [],
   "source": [
    "import os\n",
    "import glob\n",
    "import time\n",
    "import mne\n",
    "from mne.preprocessing import ICA"
   ]
  },
  {
   "cell_type": "code",
   "execution_count": null,
   "id": "olive-electronics",
   "metadata": {},
   "outputs": [],
   "source": [
    "# From the data manual\n",
    "EEG_CHS = ['Fp1', 'AF3', 'F3', 'F7', 'FC5', 'FC1', 'C3', 'T7', 'CP5', \n",
    "           'CP1', 'P3', 'P7', 'PO3', 'O1', 'Oz', 'Pz', 'Fp2', 'AF4', \n",
    "           'Fz', 'F4', 'F8', 'FC6', 'FC2', 'Cz', 'C4', 'T8', 'CP6', \n",
    "           'CP2', 'P4', 'P8', 'PO4', 'O2']\n",
    "STIM_CHS = ['Status']\n",
    "OTHER_CHS = ['EXG1', 'EXG2', 'EXG3', 'EXG4', 'EXG5', 'EXG6', 'EXG7', \n",
    "             'EXG8', 'GSR1', 'GSR2', 'Erg1', 'Erg2', 'Resp', 'Temp']"
   ]
  },
  {
   "cell_type": "markdown",
   "id": "union-disclosure",
   "metadata": {},
   "source": [
    "### Make bdf file path list"
   ]
  },
  {
   "cell_type": "code",
   "execution_count": null,
   "id": "behavioral-karma",
   "metadata": {},
   "outputs": [],
   "source": [
    "dataset_path = \"/net2/expData/affective_eeg/mahnob_dataset/Sessions\"\n",
    "meta_data_path = \"session.xml\"\n",
    "all_session_nums = os.listdir(dataset_path) # List of all session names\n",
    "\n",
    "raw_names = [] # Absolute paths to all bdf files\n",
    "session_nums = [] # Sessions with bdf recordings\n",
    "\n",
    "# Get current working directory to change back later\n",
    "curr_dir = os.getcwd()\n",
    "\n",
    "# From data manual, bdf file may not exist if \"the trials is missing due to \n",
    "# technical difficulties\" (pg 15).\n",
    "# Skip all sessions with no bdf recordings\n",
    "for session in all_session_nums:\n",
    "    session_path = os.path.join(dataset_path, session)\n",
    "    os.chdir(session_path)\n",
    "    bdf_list = glob.glob(\"*.bdf\")\n",
    "    \n",
    "    if (len(bdf_list) == 1):\n",
    "        session_nums.append(session)\n",
    "        name = os.path.join(dataset_path, session, bdf_list[0])\n",
    "        raw_names.append(name)\n",
    "    \n",
    "    elif (len(bdf_list) > 1):\n",
    "        raise ValueError(\"Cannot handle multiple bdf files in one session.\")\n",
    "\n",
    "# Change back to notebook directory as a precaution\n",
    "os.chdir(curr_dir)\n",
    "print(\"Back to directory: \", os.getcwd())"
   ]
  },
  {
   "cell_type": "markdown",
   "id": "bizarre-chocolate",
   "metadata": {},
   "source": [
    "### Find the shortest recording for time cutoff"
   ]
  },
  {
   "cell_type": "code",
   "execution_count": null,
   "id": "cheap-jimmy",
   "metadata": {},
   "outputs": [],
   "source": [
    "%%capture\n",
    "start_time = time.time()\n",
    "\n",
    "loaded_raws = []\n",
    "min_record_len = 1000\n",
    "\n",
    "for session, raw_name in zip(session_nums, raw_names):\n",
    "    raw_path = os.path.join(dataset_path, session, raw_name)\n",
    "    raw = mne.io.read_raw_bdf(raw_path, preload=True)\n",
    "    events = mne.find_events(raw, stim_channel=\"Status\")\n",
    "    \n",
    "    if (not len(events) == 2):\n",
    "        raise ValueError(\"Events other than stimuli start and stop are found.\")\n",
    "\n",
    "    # Cannot find method of conversion. Use time index / sampling frequency\n",
    "    event_idxs = [events[x][0] for x in range(len(events))]\n",
    "    sampling_freq = int(raw.info[\"sfreq\"])\n",
    "    start, end = [int(index / sampling_freq) for index in event_idxs]\n",
    "    \n",
    "    duration = end - start\n",
    "    if duration < min_record_len:\n",
    "        min_record_len = duration\n",
    "    \n",
    "    loaded_raws.append(raw)"
   ]
  },
  {
   "cell_type": "code",
   "execution_count": null,
   "id": "foreign-masters",
   "metadata": {
    "tags": []
   },
   "outputs": [],
   "source": [
    "print(\"Took %ss to finish.\" % (time.time() - start_time))\n",
    "print(format(\"Shortest stimuli presentation: {}s\".format(min_record_len)))"
   ]
  },
  {
   "cell_type": "markdown",
   "id": "ahead-mongolia",
   "metadata": {},
   "source": [
    "### Preprocess raw"
   ]
  },
  {
   "cell_type": "code",
   "execution_count": null,
   "id": "alike-found",
   "metadata": {},
   "outputs": [],
   "source": [
    "%%capture\n",
    "start_time = time.time()\n",
    "\n",
    "if not os.path.exists(\"raw\"):\n",
    "    os.makedirs(\"raw\")\n",
    "\n",
    "for i in range(len(loaded_raws)):\n",
    "    raw = loaded_raws[i]\n",
    "    \n",
    "    # Find stimuli start and stop\n",
    "    events = mne.find_events(raw, stim_channel=\"Status\")\n",
    "    start_idx = events[0][0]\n",
    "    sampling_freq = int(raw.info[\"sfreq\"])\n",
    "    start = int(start_idx / sampling_freq)\n",
    "    end = start + min_record_len\n",
    "\n",
    "    # Cut data based on duration\n",
    "    raw = raw.crop(tmin=start, tmax=end)\n",
    "\n",
    "    # Drop channel, rereference, filter\n",
    "    raw = raw.drop_channels(OTHER_CHS)\n",
    "    raw = raw.drop_channels(STIM_CHS)\n",
    "    raw, _ = mne.set_eeg_reference(raw) # Rereference by mean\n",
    "    raw = raw.filter(l_freq=1, h_freq=49)\n",
    "\n",
    "    # ICA\n",
    "    ica = ICA(n_components=15, random_state=413)\n",
    "    ica.fit(raw)\n",
    "    ica.exclude = [0, 1]\n",
    "    ica.apply(raw) # Project back\n",
    "    \n",
    "    # Store raw\n",
    "    idx = \"{:04}\".format(i)\n",
    "    file_name = \"raw/session_\" + idx + \"_raw.fif\"\n",
    "    raw.save(file_name, overwrite=True)"
   ]
  },
  {
   "cell_type": "code",
   "execution_count": null,
   "id": "little-purple",
   "metadata": {},
   "outputs": [],
   "source": [
    "print(\"Took %ss to finish.\" % (time.time() - start_time))"
   ]
  }
 ],
 "metadata": {
  "kernelspec": {
   "display_name": "Python 3",
   "language": "python",
   "name": "python3"
  },
  "language_info": {
   "codemirror_mode": {
    "name": "ipython",
    "version": 3
   },
   "file_extension": ".py",
   "mimetype": "text/x-python",
   "name": "python",
   "nbconvert_exporter": "python",
   "pygments_lexer": "ipython3",
   "version": "3.8.8"
  }
 },
 "nbformat": 4,
 "nbformat_minor": 5
}
