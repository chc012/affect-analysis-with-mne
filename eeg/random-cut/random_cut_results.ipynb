{
 "cells": [
  {
   "cell_type": "markdown",
   "id": "passing-cabin",
   "metadata": {},
   "source": [
    "# Processing all session data _with Random Cut_ and predict subject emotion with LDA"
   ]
  },
  {
   "cell_type": "markdown",
   "id": "centered-publisher",
   "metadata": {},
   "source": [
    "## Set up"
   ]
  },
  {
   "cell_type": "code",
   "execution_count": 1,
   "id": "preceding-italic",
   "metadata": {},
   "outputs": [
    {
     "name": "stderr",
     "output_type": "stream",
     "text": [
      "Matplotlib created a temporary config/cache directory at /tmp/matplotlib-xxonnmvy because the default path (/home/chc012/.cache/matplotlib) is not a writable directory; it is highly recommended to set the MPLCONFIGDIR environment variable to a writable directory, in particular to speed up the import of Matplotlib and to better support multiprocessing.\n"
     ]
    }
   ],
   "source": [
    "import os\n",
    "import glob\n",
    "import time\n",
    "import pickle\n",
    "import matplotlib.pyplot as plt\n",
    "from matplotlib import rcParams\n",
    "\n",
    "from sklearn.discriminant_analysis import LinearDiscriminantAnalysis as LDA\n",
    "from sklearn.svm import SVC\n",
    "from sklearn.model_selection import cross_val_score\n",
    "from sklearn.pipeline import make_pipeline\n",
    "from sklearn.preprocessing import StandardScaler\n",
    "\n",
    "from get_feature_response import *\n",
    "\n",
    "# figure size in inches: \n",
    "# https://stackoverflow.com/questions/31594549/\n",
    "# how-to-change-the-figure-size-of-a-seaborn-axes-or-figure-level-plot\n",
    "rcParams['figure.figsize'] = 11.7,8.27"
   ]
  },
  {
   "cell_type": "code",
   "execution_count": 2,
   "id": "working-robert",
   "metadata": {},
   "outputs": [],
   "source": [
    "CATEGORIES = {\n",
    "    (0, 0) : \"lvla\",\n",
    "    (0, 1) : \"lvha\",\n",
    "    (1, 0) : \"hvla\",\n",
    "    (1, 1) : \"hvha\"\n",
    "}\n",
    "\n",
    "min_record_len = 35"
   ]
  },
  {
   "cell_type": "markdown",
   "id": "organizational-sociology",
   "metadata": {
    "tags": []
   },
   "source": [
    "### Get preprocessed data"
   ]
  },
  {
   "cell_type": "code",
   "execution_count": 3,
   "id": "intense-stomach",
   "metadata": {
    "tags": []
   },
   "outputs": [],
   "source": [
    "raw_path = \"raw\"\n",
    "all_sessions = os.listdir(raw_path)\n",
    "\n",
    "loaded_raws = []\n",
    "for session in all_sessions:\n",
    "    session_path = os.path.join(raw_path, session)\n",
    "    with open(session_path, \"rb\") as fp:\n",
    "        raw = pickle.load(fp)\n",
    "    loaded_raws.append(raw)"
   ]
  },
  {
   "cell_type": "markdown",
   "id": "sunset-commitment",
   "metadata": {},
   "source": [
    "### Get emotion response"
   ]
  },
  {
   "cell_type": "code",
   "execution_count": 4,
   "id": "blind-texas",
   "metadata": {
    "tags": []
   },
   "outputs": [
    {
     "name": "stdout",
     "output_type": "stream",
     "text": [
      "Back to directory:  /home/jovyan/mahnob/attended-gaze/random-cut\n"
     ]
    }
   ],
   "source": [
    "dataset_path = \"/net2/expData/affective_eeg/mahnob_dataset/Sessions\"\n",
    "meta_data_path = \"session.xml\"\n",
    "all_session_nums = os.listdir(dataset_path) # List of all session names\n",
    "\n",
    "session_nums = [] # Sessions with bdf recordings\n",
    "\n",
    "# Get current working directory to change back later\n",
    "curr_dir = os.getcwd()\n",
    "\n",
    "# From data manual, bdf file may not exist if \"the trials is missing due to \n",
    "# technical difficulties\" (pg 15).\n",
    "# Skip all sessions with no bdf recordings\n",
    "for session in all_session_nums:\n",
    "    session_path = os.path.join(dataset_path, session)\n",
    "    os.chdir(session_path)\n",
    "    bdf_list = glob.glob(\"*.bdf\")\n",
    "    \n",
    "    if (len(bdf_list) == 1):\n",
    "        session_nums.append(session)\n",
    "    \n",
    "    elif (len(bdf_list) > 1):\n",
    "        raise ValueError(\"Cannot handle multiple bdf files in one session.\")\n",
    "\n",
    "# Change back to notebook directory as a precaution\n",
    "os.chdir(curr_dir)\n",
    "print(\"Back to directory: \", os.getcwd())\n",
    "\n",
    "response_list = []\n",
    "\n",
    "for session in session_nums:\n",
    "    xml_path = os.path.join(dataset_path, session, meta_data_path)\n",
    "    resp = get_affect(xml_path)\n",
    "    response_list.append(resp)\n",
    "\n",
    "response_array = np.array(response_list)"
   ]
  },
  {
   "cell_type": "code",
   "execution_count": 5,
   "id": "bizarre-change",
   "metadata": {},
   "outputs": [
    {
     "name": "stdout",
     "output_type": "stream",
     "text": [
      "response_array shape: (527, 2)\n"
     ]
    }
   ],
   "source": [
    "print(\"response_array shape:\", np.shape(response_array))"
   ]
  },
  {
   "cell_type": "markdown",
   "id": "hungry-banana",
   "metadata": {},
   "source": [
    "### Generate result array\n",
    "\n",
    "The array of average 10-fold CV scores when different percentage of cut is applied. This will be used to generate the final plot.\n",
    "\n",
    "WARNING: this will take a long time"
   ]
  },
  {
   "cell_type": "code",
   "execution_count": 6,
   "id": "fitted-atlantic",
   "metadata": {
    "tags": []
   },
   "outputs": [
    {
     "name": "stdout",
     "output_type": "stream",
     "text": [
      "Cut 0.0 percent of data\n",
      "Took 2421s to finish this part.\n",
      "Cut 0.05 percent of data\n",
      "Took 4710s to finish this part.\n",
      "Cut 0.1 percent of data\n",
      "Took 6901s to finish this part.\n",
      "Cut 0.15 percent of data\n",
      "Took 8992s to finish this part.\n",
      "Cut 0.2 percent of data\n",
      "Took 10949s to finish this part.\n",
      "Cut 0.25 percent of data\n",
      "Took 12770s to finish this part.\n",
      "Cut 0.3 percent of data\n",
      "Took 14495s to finish this part.\n",
      "Cut 0.35000000000000003 percent of data\n",
      "Took 16080s to finish this part.\n",
      "Cut 0.4 percent of data\n",
      "Took 17569s to finish this part.\n",
      "Cut 0.45 percent of data\n",
      "Took 18920s to finish this part.\n",
      "Cut 0.5 percent of data\n",
      "Took 20166s to finish this part.\n",
      "Cut 0.55 percent of data\n",
      "Took 21280s to finish this part.\n",
      "Cut 0.6 percent of data\n",
      "Took 22293s to finish this part.\n",
      "Cut 0.65 percent of data\n",
      "Took 23172s to finish this part.\n",
      "Cut 0.7000000000000001 percent of data\n",
      "Took 23950s to finish this part.\n",
      "Cut 0.75 percent of data\n",
      "Took 24627s to finish this part.\n",
      "Cut 0.8 percent of data\n",
      "Took 25162s to finish this part.\n",
      "Cut 0.85 percent of data\n",
      "Took 25599s to finish this part.\n",
      "Cut 0.9 percent of data\n",
      "Took 25901s to finish this part.\n",
      "Cut 0.9500000000000001 percent of data\n",
      "Took 26066s to finish this part.\n",
      "Took 26066s to finish.\n"
     ]
    }
   ],
   "source": [
    "start_time = time.time()\n",
    "\n",
    "cut_percentages = [(x*0.01) for x in range(0, 100, 5)] # Should be [0, 0.05, 0.1, ...]\n",
    "# The array of average 10-fold CV scores when different percentage of cut is applied. \n",
    "# This will be used to generate the final plot.\n",
    "\n",
    "v_results = []\n",
    "a_results = []\n",
    "\n",
    "for cut_percent in cut_percentages:\n",
    "    print(\"Cut \" + str(cut_percent) + \" percent of data\")\n",
    "    \n",
    "    v_results += [[]]\n",
    "    a_results += [[]]\n",
    "    \n",
    "    for i in range(100):\n",
    "        feats_red_dim = [] # flattneed feature list for LDA\n",
    "        for raw in loaded_raws:\n",
    "            _, feat_red_dim = random_cut(raw, cut_percent=cut_percent)\n",
    "            feats_red_dim += [feat_red_dim]\n",
    "        feat_red_dim_arr = np.array(feats_red_dim)\n",
    "        # Valence\n",
    "        lda_v = LDA()\n",
    "        lda_v_4_scores = cross_val_score(lda_v, feat_red_dim_arr, \n",
    "                                         response_array[:,0], n_jobs=-1)\n",
    "        v_results[-1] += [np.mean(lda_v_4_scores)]\n",
    "        # Arousal\n",
    "        lda_a = LDA()\n",
    "        lda_a_4_scores = cross_val_score(lda_a, feat_red_dim_arr, \n",
    "                                         response_array[:,1], n_jobs=-1)\n",
    "        a_results[-1] += [np.mean(lda_a_4_scores)]\n",
    "    \n",
    "    print(\"Took %ss to finish this part.\" % round(time.time() - start_time))\n",
    "\n",
    "print(\"Took %ss to finish.\" % round(time.time() - start_time))"
   ]
  },
  {
   "cell_type": "markdown",
   "id": "daily-particle",
   "metadata": {},
   "source": [
    "#### Store the results in pickle file"
   ]
  },
  {
   "cell_type": "code",
   "execution_count": 35,
   "id": "precious-context",
   "metadata": {},
   "outputs": [],
   "source": [
    "if not os.path.exists(\"results\"):\n",
    "    os.makedirs(\"results\")\n",
    "with open(\"results/valence_result.pkl\", 'wb') as fp:\n",
    "    pickle.dump(v_results, fp)\n",
    "with open(\"results/arousal_result.pkl\", \"wb\") as fp:\n",
    "    pickle.dump(a_results, fp)"
   ]
  },
  {
   "cell_type": "markdown",
   "id": "brave-marketing",
   "metadata": {},
   "source": [
    "### Plot"
   ]
  },
  {
   "cell_type": "code",
   "execution_count": 36,
   "id": "competitive-shaft",
   "metadata": {},
   "outputs": [
    {
     "data": {
      "image/png": "[encoded data removed]",
      "text/plain": [
       "<Figure size 842.4x595.44 with 2 Axes>"
      ]
     },
     "metadata": {
      "needs_background": "light"
     },
     "output_type": "display_data"
    }
   ],
   "source": [
    "v_avg_res = [np.mean(x) for x in v_results]\n",
    "a_avg_res = [np.mean(y) for y in a_results]\n",
    "v_std_res = [np.std(x) for x in v_results]\n",
    "a_std_res = [np.std(y) for y in a_results]\n",
    "\n",
    "fig, (ax1, ax2) = plt.subplots(2, 1)\n",
    "ax1.errorbar(cut_percentages, v_avg_res, yerr=v_std_res, capsize=10, marker=\"o\")\n",
    "ax1.set_title(\"Valence CV scores (with 1 sd error bar)\")\n",
    "ax1.set_ylabel(\"Accuracy\")\n",
    "\n",
    "ax2.errorbar(cut_percentages, a_avg_res, yerr=a_std_res, capsize=10, color=\"r\", marker=\"o\")\n",
    "ax2.set_title(\"Arousal CV scores (with 1 sd error bar)\")\n",
    "ax2.set_xlabel(\"percentage omitted\")\n",
    "ax2.set_ylabel(\"Accuracy\")\n",
    "\n",
    "plt.show()"
   ]
  }
 ],
 "metadata": {
  "kernelspec": {
   "display_name": "Python 3",
   "language": "python",
   "name": "python3"
  },
  "language_info": {
   "codemirror_mode": {
    "name": "ipython",
    "version": 3
   },
   "file_extension": ".py",
   "mimetype": "text/x-python",
   "name": "python",
   "nbconvert_exporter": "python",
   "pygments_lexer": "ipython3",
   "version": "3.8.8"
  }
 },
 "nbformat": 4,
 "nbformat_minor": 5
}
